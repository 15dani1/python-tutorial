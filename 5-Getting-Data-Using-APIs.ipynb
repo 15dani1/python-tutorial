{
 "cells": [
  {
   "cell_type": "markdown",
   "metadata": {},
   "source": [
    "ISRC Python Workshop: Using APIs\n",
    "\n",
    "___Getting data using APIs___"
   ]
  },
  {
   "cell_type": "markdown",
   "metadata": {},
   "source": [
    "<hr>"
   ]
  },
  {
   "cell_type": "markdown",
   "metadata": {},
   "source": [
    "@author: Zhiya Zuo\n",
    "\n",
    "@email: zhiya-zuo@uiowa.edu"
   ]
  },
  {
   "cell_type": "markdown",
   "metadata": {},
   "source": [
    "---"
   ]
  },
  {
   "cell_type": "markdown",
   "metadata": {},
   "source": [
    "#### Introduction"
   ]
  },
  {
   "cell_type": "markdown",
   "metadata": {},
   "source": [
    "APIs, application programming interfaces, are services designed for easier software developments. APIs can be in many different forms, including software libraries and database systems. Generally, you can think of APIs as Lego pieces used for specific models. I found a somewhat brief but interesting read on APIs [here](https://www.analyticsvidhya.com/blog/2016/11/an-introduction-to-apis-application-programming-interfaces-5-apis-a-data-scientist-must-know/)."
   ]
  },
  {
   "cell_type": "markdown",
   "metadata": {},
   "source": [
    "Before we dive into playing with APIs using Python, let's first try some simple examples."
   ]
  },
  {
   "cell_type": "markdown",
   "metadata": {},
   "source": [
    "##### [Google Maps Geocoding API](https://developers.google.com/maps/documentation/geocoding/start)"
   ]
  },
  {
   "cell_type": "markdown",
   "metadata": {},
   "source": [
    "We use this all the time whenever we are using Google Maps to navigate. When we search for some place ny typing its name, we get the location. Instead of using the app, let's use the underlying API directly:"
   ]
  },
  {
   "cell_type": "markdown",
   "metadata": {},
   "source": [
    "API Request Format:\n",
    "\n",
    "https://maps.googleapis.com/maps/api/geocode/outputFormat?parameters\n",
    "\n",
    "where:\n",
    "- outputFormat can either be [JSON](https://www.json.org/) or [XML](https://www.w3schools.com/xml/default.asp)\n",
    "- parameters: `address` of interest AND your [API key](https://stackoverflow.com/questions/1453073/what-is-an-api-key)."
   ]
  },
  {
   "cell_type": "markdown",
   "metadata": {},
   "source": [
    "As a simple example, let's try to search where the university is by: https://maps.googleapis.com/maps/api/geocode/json?address=university+of+iowa.\n",
    "\n",
    "And now we get:\n",
    "```json\n",
    "{\n",
    "   \"results\" : [\n",
    "      {\n",
    "         \"address_components\" : [\n",
    "            {\n",
    "               \"long_name\" : \"Iowa City\",\n",
    "               \"short_name\" : \"Iowa City\",\n",
    "               \"types\" : [ \"locality\", \"political\" ]\n",
    "            },\n",
    "            {\n",
    "               \"long_name\" : \"Johnson County\",\n",
    "               \"short_name\" : \"Johnson County\",\n",
    "               \"types\" : [ \"administrative_area_level_2\", \"political\" ]\n",
    "            },\n",
    "            {\n",
    "               \"long_name\" : \"Iowa\",\n",
    "               \"short_name\" : \"IA\",\n",
    "               \"types\" : [ \"administrative_area_level_1\", \"political\" ]\n",
    "            },\n",
    "            {\n",
    "               \"long_name\" : \"United States\",\n",
    "               \"short_name\" : \"US\",\n",
    "               \"types\" : [ \"country\", \"political\" ]\n",
    "            },\n",
    "            {\n",
    "               \"long_name\" : \"52242\",\n",
    "               \"short_name\" : \"52242\",\n",
    "               \"types\" : [ \"postal_code\" ]\n",
    "            }\n",
    "         ],\n",
    "         \"formatted_address\" : \"Iowa City, IA 52242, USA\",\n",
    "         \"geometry\" : {\n",
    "            \"location\" : {\n",
    "               \"lat\" : 41.6626963,\n",
    "               \"lng\" : -91.5548998\n",
    "            },\n",
    "            \"location_type\" : \"GEOMETRIC_CENTER\",\n",
    "            \"viewport\" : {\n",
    "               \"northeast\" : {\n",
    "                  \"lat\" : 41.6640452802915,\n",
    "                  \"lng\" : -91.55355081970851\n",
    "               },\n",
    "               \"southwest\" : {\n",
    "                  \"lat\" : 41.6613473197085,\n",
    "                  \"lng\" : -91.55624878029151\n",
    "               }\n",
    "            }\n",
    "         },\n",
    "         \"place_id\" : \"ChIJ__-_SfJB5IcRYTLnsT_j0Us\",\n",
    "         \"types\" : [ \"establishment\", \"point_of_interest\", \"university\" ]\n",
    "      }\n",
    "   ],\n",
    "   \"status\" : \"OK\"\n",
    "}\n",
    "```"
   ]
  },
  {
   "cell_type": "markdown",
   "metadata": {},
   "source": [
    "This is the return object in JSON format, where there are key-value pairs to store specific values for different attributes. For example, the ___formatted address___ is ___Iowa City, IA, 52242, USA___"
   ]
  },
  {
   "cell_type": "markdown",
   "metadata": {},
   "source": [
    "Note that API key is not needed here if we only make a couple of requests. If you want to build an app or query more often, you will need to pay attention to the [rate limit](https://developers.google.com/maps/documentation/geocoding/usage-limits)"
   ]
  },
  {
   "cell_type": "markdown",
   "metadata": {},
   "source": [
    "##### [Weather API](https://openweathermap.org/api)"
   ]
  },
  {
   "cell_type": "markdown",
   "metadata": {},
   "source": [
    "As a second example, let's try get some weather data. This name, we will need an API key!\n",
    "\n",
    "Whenever we go to a webpage with list of API choices, we should first find what we really want. Suppose we want to find out the current weather data, we will go to the [___api doc___ for that API](https://openweathermap.org/current). Let's try the first method: getting weather by city name:"
   ]
  },
  {
   "cell_type": "markdown",
   "metadata": {},
   "source": [
    "API call:\n",
    "\n",
    "- https://api.openweathermap.org/data/2.5/weather?q={city}\n",
    "\n",
    "- https://api.openweathermap.org/data/2.5/weather?q={city},{country}\n",
    "\n",
    "Parameters:\n",
    "___q___ city name and country code divided by comma, use [___ISO 3166 country codes___](https://en.wikipedia.org/wiki/ISO_3166-1#Officially_assigned_code_elements)\n",
    "\n",
    "Examples of API calls:\n",
    "\n",
    "- https://api.openweathermap.org/data/2.5/weather?q=London\n",
    "\n",
    "- https://api.openweathermap.org/data/2.5/weather?q=London,uk"
   ]
  },
  {
   "cell_type": "markdown",
   "metadata": {},
   "source": [
    "This time, we get an error without an API key, saying that:\n",
    "\n",
    "```json\n",
    "{\"cod\":401, \"message\": \"Invalid API key. Please see http://openweathermap.org/faq#error401 for more info.\"}\n",
    "```\n",
    "\n",
    "Note that this is also a JSON object, with an error code of 401 and an error message."
   ]
  },
  {
   "cell_type": "markdown",
   "metadata": {},
   "source": [
    "_I just found that it takes up to 10 minutes for new accounts' keys to be activated. For this reason, let's use my key: `a236f384f5bced47bbba86335cdb1d2a`, which will be deleted after this workshop_"
   ]
  },
  {
   "cell_type": "markdown",
   "metadata": {},
   "source": [
    "Let's try to get an API key [here](http://openweathermap.org/appid). After creating an account, you are able to find an API key [here](https://home.openweathermap.org/api_keys). For privacy and security issue, I will save my API key locally in a file called `weather_keys.csv`. Now that you have the key, you can run the following line in your browser:\n",
    "\n",
    "https://api.openweathermap.org/data/2.5/weather?q=Shanghai&APPID=apikey\n",
    "\n",
    "In our case, it should be https://api.openweathermap.org/data/2.5/weather?q=Shanghai&APPID=a236f384f5bced47bbba86335cdb1d2a\n",
    "\n",
    "Looking at the structure of the API call, we know that different parameters are seperated by a `&` sign."
   ]
  },
  {
   "cell_type": "markdown",
   "metadata": {},
   "source": [
    "Overall we see that this is very easy and straightforward."
   ]
  },
  {
   "cell_type": "markdown",
   "metadata": {},
   "source": [
    "---"
   ]
  },
  {
   "cell_type": "markdown",
   "metadata": {},
   "source": [
    "#### Send API requests in Python"
   ]
  },
  {
   "cell_type": "markdown",
   "metadata": {},
   "source": [
    "While the use of APIs are pretty simple, we might not want to do all these copy and paste manually. Python can help us to send requests and parse results automatically with less human supervision."
   ]
  },
  {
   "cell_type": "markdown",
   "metadata": {},
   "source": [
    "To do this, we need to know how to send requests first. We will use an amazing package called [`requests`](http://docs.python-requests.org/en/master/). If you did not have it, please install it by `pip` or `conda`:\n",
    "\n",
    "```bash\n",
    "$ pip install requests\n",
    "```\n",
    "\n",
    "or \n",
    "\n",
    "```bash\n",
    "$ conda install requests\n",
    "```"
   ]
  },
  {
   "cell_type": "code",
   "execution_count": 6,
   "metadata": {
    "ExecuteTime": {
     "end_time": "2018-02-07T20:33:05.157071Z",
     "start_time": "2018-02-07T20:33:05.022071Z"
    }
   },
   "outputs": [],
   "source": [
    "# Let's load the library first\n",
    "import requests"
   ]
  },
  {
   "cell_type": "markdown",
   "metadata": {},
   "source": [
    "Using weather as an example, we should first know what is the request URL (where the request goes to), with what inputs (e.g., API key and city name). In our case, we know that our API key and the city to query so we can do the following."
   ]
  },
  {
   "cell_type": "code",
   "execution_count": 9,
   "metadata": {
    "ExecuteTime": {
     "end_time": "2018-02-07T20:35:21.666104Z",
     "start_time": "2018-02-07T20:35:21.660972Z"
    }
   },
   "outputs": [
    {
     "name": "stdout",
     "output_type": "stream",
     "text": [
      "https://api.openweathermap.org/data/2.5/weather\n",
      "Shanghai\n",
      "a236f384f5bced47bbba86335cdb1d2a\n"
     ]
    }
   ],
   "source": [
    "weather_url = \"https://api.openweathermap.org/data/2.5/weather\"\n",
    "city_name = \"Shanghai\"\n",
    "print(weather_url)\n",
    "print(city_name)\n",
    "print(apikey)"
   ]
  },
  {
   "cell_type": "markdown",
   "metadata": {},
   "source": [
    "Now, we should let `requests` do its work."
   ]
  },
  {
   "cell_type": "code",
   "execution_count": 11,
   "metadata": {
    "ExecuteTime": {
     "end_time": "2018-02-07T20:38:12.457792Z",
     "start_time": "2018-02-07T20:38:12.301996Z"
    }
   },
   "outputs": [
    {
     "data": {
      "text/plain": [
       "'https://api.openweathermap.org/data/2.5/weather?q=Shanghai&APPID=a236f384f5bced47bbba86335cdb1d2a'"
      ]
     },
     "execution_count": 11,
     "metadata": {},
     "output_type": "execute_result"
    }
   ],
   "source": [
    "r = requests.get(weather_url, params={'q': city_name, 'APPID': apikey})\n",
    "r.url # `requests` help us encode the URL in the correct format"
   ]
  },
  {
   "cell_type": "code",
   "execution_count": 14,
   "metadata": {
    "ExecuteTime": {
     "end_time": "2018-02-07T20:39:54.715203Z",
     "start_time": "2018-02-07T20:39:54.711320Z"
    }
   },
   "outputs": [
    {
     "data": {
      "text/plain": [
       "200"
      ]
     },
     "execution_count": 14,
     "metadata": {},
     "output_type": "execute_result"
    }
   ],
   "source": [
    "r.status_code # 200 means success"
   ]
  },
  {
   "cell_type": "markdown",
   "metadata": {},
   "source": [
    "As a side note, the `requests.get` method here means we want to use `GET` method, as opposed to `POST` method. The former refers to obtaining data, whereas the latters refers to modifying data. See [this post](https://www.w3schools.com/tags/ref_httpmethods.asp) for more details."
   ]
  },
  {
   "cell_type": "markdown",
   "metadata": {},
   "source": [
    "To get the JSON response, we call `r.json()` method."
   ]
  },
  {
   "cell_type": "code",
   "execution_count": 12,
   "metadata": {
    "ExecuteTime": {
     "end_time": "2018-02-07T20:38:45.017093Z",
     "start_time": "2018-02-07T20:38:45.004084Z"
    }
   },
   "outputs": [
    {
     "data": {
      "text/plain": [
       "{'base': 'stations',\n",
       " 'clouds': {'all': 0},\n",
       " 'cod': 200,\n",
       " 'coord': {'lat': 31.23, 'lon': 121.49},\n",
       " 'dt': 1518033600,\n",
       " 'id': 1796236,\n",
       " 'main': {'humidity': 74,\n",
       "  'pressure': 1025,\n",
       "  'temp': 272.67,\n",
       "  'temp_max': 273.15,\n",
       "  'temp_min': 272.15},\n",
       " 'name': 'Shanghai',\n",
       " 'sys': {'country': 'CN',\n",
       "  'id': 7452,\n",
       "  'message': 0.0044,\n",
       "  'sunrise': 1517956912,\n",
       "  'sunset': 1517996094,\n",
       "  'type': 1},\n",
       " 'visibility': 10000,\n",
       " 'weather': [{'description': 'clear sky',\n",
       "   'icon': '01n',\n",
       "   'id': 800,\n",
       "   'main': 'Clear'}],\n",
       " 'wind': {'deg': 350, 'speed': 3}}"
      ]
     },
     "execution_count": 12,
     "metadata": {},
     "output_type": "execute_result"
    }
   ],
   "source": [
    "result = r.json()\n",
    "result"
   ]
  },
  {
   "cell_type": "markdown",
   "metadata": {},
   "source": [
    "JSON object will be converted into a `dict` type, which is the data structure in Python holding key value pairs. To access certain values, we just access them like a `dict`."
   ]
  },
  {
   "cell_type": "code",
   "execution_count": 15,
   "metadata": {
    "ExecuteTime": {
     "end_time": "2018-02-07T20:42:14.659456Z",
     "start_time": "2018-02-07T20:42:14.653275Z"
    }
   },
   "outputs": [
    {
     "data": {
      "text/plain": [
       "'Shanghai'"
      ]
     },
     "execution_count": 15,
     "metadata": {},
     "output_type": "execute_result"
    }
   ],
   "source": [
    "result['name']"
   ]
  },
  {
   "cell_type": "code",
   "execution_count": 18,
   "metadata": {
    "ExecuteTime": {
     "end_time": "2018-02-07T20:43:59.167770Z",
     "start_time": "2018-02-07T20:43:59.153441Z"
    }
   },
   "outputs": [
    {
     "name": "stdout",
     "output_type": "stream",
     "text": [
      "temp 272.67\n",
      "pressure 1025\n",
      "humidity 74\n",
      "temp_min 272.15\n",
      "temp_max 273.15\n"
     ]
    }
   ],
   "source": [
    "for key, value in result['main'].items():\n",
    "     print(key, value) # default temperature is in Kelvin"
   ]
  },
  {
   "cell_type": "markdown",
   "metadata": {},
   "source": [
    "---"
   ]
  },
  {
   "cell_type": "markdown",
   "metadata": {},
   "source": [
    "#### Use packages: Twitter API as an example"
   ]
  },
  {
   "cell_type": "markdown",
   "metadata": {},
   "source": [
    "Many web servers have their own APIs ready to use. By using these convenient tools, we can get started right off following their documentations and examples without any manual efforts. We will be using <a href=\"https://apps.twitter.com/\" target=\"_blank\">Twitter API</a> as an example. We will first install this package as shown [here](https://python-twitter.readthedocs.io/en/latest/installation.html)"
   ]
  },
  {
   "cell_type": "markdown",
   "metadata": {},
   "source": [
    "Then, we have to register an account for Twitter Developer and register an app. Let's go to https://dev.twitter.com/ and get an app togther. <a href=\"https://python-twitter.readthedocs.io/en/latest/getting_started.html\" target=\"_b lank\">Here</a>'s a quick start on how you can do this. After we obtain *__consumer key__*, *__consumer secret__*, *__access token__*, and *__access token secret__*, we are ready to retrieve some data from Twitter!"
   ]
  },
  {
   "cell_type": "code",
   "execution_count": 22,
   "metadata": {
    "ExecuteTime": {
     "end_time": "2018-02-07T20:47:15.375154Z",
     "start_time": "2018-02-07T20:47:15.371193Z"
    }
   },
   "outputs": [],
   "source": [
    "## suppress warnings\n",
    "import warnings\n",
    "warnings.filterwarnings('ignore')"
   ]
  },
  {
   "cell_type": "markdown",
   "metadata": {
    "scrolled": true
   },
   "source": [
    "I saved my own keys into a text file with four lines of commented code below:\n",
    "```\n",
    "consumer_key = \"your_consumer_key\"        \n",
    "consumer_secret = \"your_consumer_secret\"\n",
    "access_token = \"your_access_token\"\n",
    "access_secret = \"your_access_secret\"\n",
    "```"
   ]
  },
  {
   "cell_type": "code",
   "execution_count": 25,
   "metadata": {
    "ExecuteTime": {
     "end_time": "2018-02-07T20:48:40.038680Z",
     "start_time": "2018-02-07T20:48:40.033965Z"
    }
   },
   "outputs": [],
   "source": [
    "with open(\"./twitter_keys.csv\", \"r\") as twitter_keys:\n",
    "    keys = twitter_keys.read()\n",
    "    consumer_key, consumer_secret, access_token, access_secret = \\\n",
    "        keys.split(\"\\n\")[:-1]"
   ]
  },
  {
   "cell_type": "code",
   "execution_count": 26,
   "metadata": {
    "ExecuteTime": {
     "end_time": "2018-02-07T20:48:40.782396Z",
     "start_time": "2018-02-07T20:48:40.544012Z"
    },
    "scrolled": true
   },
   "outputs": [
    {
     "data": {
      "text/plain": [
       "User(ID=2740697738, ScreenName=zhiyzuo)"
      ]
     },
     "execution_count": 26,
     "metadata": {},
     "output_type": "execute_result"
    }
   ],
   "source": [
    "## load twitter package, which a well-written Python package for Twitter APIs\n",
    "import twitter\n",
    "api = twitter.Api(consumer_key=consumer_key,\n",
    "                  consumer_secret=consumer_secret,                  \n",
    "                  access_token_key=access_token,\n",
    "                  access_token_secret=access_secret)\n",
    "\n",
    "## check status\n",
    "api.VerifyCredentials()"
   ]
  },
  {
   "cell_type": "markdown",
   "metadata": {},
   "source": [
    "Try to do some simple tasks: get my ownstatuses"
   ]
  },
  {
   "cell_type": "code",
   "execution_count": 28,
   "metadata": {
    "ExecuteTime": {
     "end_time": "2018-02-07T20:49:31.091702Z",
     "start_time": "2018-02-07T20:49:30.830407Z"
    }
   },
   "outputs": [
    {
     "name": "stdout",
     "output_type": "stream",
     "text": [
      "RT @jcdl2018: We have extended the #jcdl2018 deadline for panels, posters, and demonstrations to February 2, 2018. https://t.co/OrA407HlcT\n",
      "Say Trello to boards in @Bitbucket Cloud. https://t.co/bZFOhGIDqH #BitbucketTrends\n",
      "The state and evolution of U.S. iSchools: From talent acquisitions to research... https://t.co/t5wY6YvxQl\n",
      "RT @kangzhao: Our paper on @iSchools published--The state and evolution of U.S. iSchools: from talent acquisitions to research https://t.co…\n",
      "@JASIST 😆\n",
      "#fabric #myowntwitterapp fun app!\n",
      "test my fabric composer\n",
      "Test pic http://t.co/C8CJbKg19b\n",
      "Test url twitter api http://t.co/3eXsFUEZPo\n",
      "This is a test tweet for the api.\n",
      "Test tweet\n"
     ]
    }
   ],
   "source": [
    "statuses = api.GetUserTimeline(screen_name=\"Zhiya Zuo\")\n",
    "for s in statuses:\n",
    "    print(s.text)"
   ]
  },
  {
   "cell_type": "markdown",
   "metadata": {},
   "source": [
    "We can also use our `user id`"
   ]
  },
  {
   "cell_type": "code",
   "execution_count": 30,
   "metadata": {
    "ExecuteTime": {
     "end_time": "2018-02-07T20:50:27.703542Z",
     "start_time": "2018-02-07T20:50:27.214256Z"
    }
   },
   "outputs": [
    {
     "name": "stdout",
     "output_type": "stream",
     "text": [
      "Sat Jan 27 07:24:13 +0000 2018\n",
      "Thu Sep 14 17:55:58 +0000 2017\n",
      "Tue May 23 15:15:19 +0000 2017\n",
      "Tue May 23 15:04:10 +0000 2017\n",
      "Tue May 23 14:56:41 +0000 2017\n",
      "Mon Oct 31 16:40:09 +0000 2016\n",
      "Mon Oct 31 04:03:32 +0000 2016\n",
      "Wed Dec 10 17:11:50 +0000 2014\n",
      "Wed Dec 10 17:01:40 +0000 2014\n",
      "Fri Dec 05 22:28:49 +0000 2014\n",
      "Fri Dec 05 17:54:31 +0000 2014\n"
     ]
    }
   ],
   "source": [
    "statuses = api.GetUserTimeline(user_id=\"2740697738\")\n",
    "for s in statuses:\n",
    "    print(s.created_at)"
   ]
  },
  {
   "cell_type": "markdown",
   "metadata": {},
   "source": [
    "You can also get a friend list"
   ]
  },
  {
   "cell_type": "code",
   "execution_count": 31,
   "metadata": {
    "ExecuteTime": {
     "end_time": "2018-02-07T20:50:57.024340Z",
     "start_time": "2018-02-07T20:50:56.386687Z"
    }
   },
   "outputs": [
    {
     "name": "stdout",
     "output_type": "stream",
     "text": [
      "/r/datasets\n",
      "JCDL 2018\n",
      "Yann LeCun\n",
      "Duncan Watts\n",
      "Tiago Peixoto\n",
      "Command Line Magic\n",
      "Unix tool tip\n",
      "Data Science Fact\n",
      "ASIS&T SIG/MET\n",
      "Nick Street\n",
      "Yuanyang Liu\n",
      "Kristina Bigsby\n",
      "Mendeley Support\n",
      "Xun Zhou\n",
      "New York Internships\n",
      "Santa Fe Institute\n",
      "Microsoft Academic\n",
      "Network Science PhDs\n",
      "JASIST\n",
      "ASIS&T\n",
      "iSchools iConference\n",
      "iSchools\n",
      "WASD Keyboards\n",
      "Yong-Yeol Ahn\n",
      "Lada Adamic\n",
      "Jure Leskovec\n",
      "Network Fact\n",
      "Dan Larremore\n",
      "Simon DeDeo\n",
      "Jevin West\n",
      "Aaron Clauset\n",
      "John Jairo Rios R.\n",
      "Michael Lash\n",
      "Kang Zhao\n",
      "sharelatex\n",
      "Lincoln Wang\n",
      "Xi Wang\n",
      "qix\n",
      "Overleaf\n",
      "Andrew Ng\n",
      "Iowa Memorial Union\n",
      "University of Iowa\n",
      "kevin Garnet\n"
     ]
    }
   ],
   "source": [
    "friends = api.GetFriends()\n",
    "for f in friends:\n",
    "    print(f.name)"
   ]
  },
  {
   "cell_type": "markdown",
   "metadata": {},
   "source": [
    "More interestingly, let's go get some tweets from Twitter. Let's try to search for any popular tweets (limit to 20) related to `uiowa` since 12/01/2014 in English.\n",
    "- See https://dev.twitter.com/rest/public/search for more informaiton on how to construct a query\n",
    "- How to set `lang` parameter -> https://dev.twitter.com/rest/reference/get/help/languages"
   ]
  },
  {
   "cell_type": "code",
   "execution_count": 32,
   "metadata": {
    "ExecuteTime": {
     "end_time": "2018-02-07T20:54:32.955222Z",
     "start_time": "2018-02-07T20:54:32.540055Z"
    }
   },
   "outputs": [],
   "source": [
    "results = api.GetSearch(\n",
    "    raw_query=\"q=uiowa&result_type=popular&since=2014-12-01&count=20&lang=en\")"
   ]
  },
  {
   "cell_type": "markdown",
   "metadata": {},
   "source": [
    "We only got 15 results though."
   ]
  },
  {
   "cell_type": "code",
   "execution_count": 41,
   "metadata": {
    "ExecuteTime": {
     "end_time": "2018-02-07T20:57:58.148156Z",
     "start_time": "2018-02-07T20:57:58.143852Z"
    }
   },
   "outputs": [
    {
     "data": {
      "text/plain": [
       "15"
      ]
     },
     "execution_count": 41,
     "metadata": {},
     "output_type": "execute_result"
    }
   ],
   "source": [
    "len(results)"
   ]
  },
  {
   "cell_type": "markdown",
   "metadata": {},
   "source": [
    "Show all the text in the retrieved tweets, with user screen name highlited"
   ]
  },
  {
   "cell_type": "code",
   "execution_count": 33,
   "metadata": {
    "ExecuteTime": {
     "end_time": "2018-02-07T20:55:07.257985Z",
     "start_time": "2018-02-07T20:55:07.249435Z"
    }
   },
   "outputs": [
    {
     "name": "stdout",
     "output_type": "stream",
     "text": [
      "Walking in a Hawkeye wonderland. ☃️❄️ https://t.co/ex7PThPrcI. Tweeted by \u001b[41muiowa\u001b[0m\n",
      "#Giantviruses may play an intriguing role in evolution of life on Earth @uiowa https://t.co/MLrza20qk1. Tweeted by \u001b[41mphysorg_com\u001b[0m\n",
      "Still in awe of @UIDM on becoming only the second school in Dance Marathon history to raise more than $3 million do… https://t.co/qX1UHwwskE. Tweeted by \u001b[41muiowa\u001b[0m\n",
      "HAWKEYE GAMEDAY!!\n",
      "vs. Mich State\n",
      "  \n",
      "⏰: 8:05 pm (CT) \n",
      "📍: CHA\n",
      "📺: @ESPN\n",
      "🎟: https://t.co/8phFJZyKDd\n",
      "📱:… https://t.co/tztfuMoQal. Tweeted by \u001b[41mIowaHoops\u001b[0m\n",
      ".@UIDM makes history. They raised  $3,011,015.24 For The Kids this year, becoming the second school ever to raise m… https://t.co/1PbBrNRHhe. Tweeted by \u001b[41muiowa\u001b[0m\n",
      "Weather update: Classes are on as scheduled. The university follows its Extreme Weather Protocol:… https://t.co/lpgUS3Pmpt. Tweeted by \u001b[41muiowa\u001b[0m\n",
      "It's #NationalSigningDay! See the #UIResearch that's able to predict where a recruit will commit:… https://t.co/qM3of5O020. Tweeted by \u001b[41muiowa\u001b[0m\n",
      "Did you👂? #RAGBRAI 2018 will feature an overnight stop in #IowaCity. We can't wait to welcome over 10,000 cyclists… https://t.co/BU2eYH95Wi. Tweeted by \u001b[41muiowa\u001b[0m\n",
      "The University of Iowa is where you go when you want to be a part of something bigger than yourself. Here's to our… https://t.co/OM9JsCCS20. Tweeted by \u001b[41muiowa\u001b[0m\n",
      "In its 1st year, @UIDM supported 26 families. This year, #UIDM will support over 900 families treated at… https://t.co/02LpChSW7a. Tweeted by \u001b[41muiowa\u001b[0m\n",
      "Today spacecraft are encased in dust proof shipping containers aboard military cargo planes. Explorer-1, America's… https://t.co/MXDEqwfCk3. Tweeted by \u001b[41mrtphokie\u001b[0m\n",
      "We're less than 24 hours away from #UIDM24 and WE CAN'T WAIT. #TBT to last year when @UIDM raised over $2.5 million… https://t.co/Dz4c71AO8T. Tweeted by \u001b[41muiowa\u001b[0m\n",
      "One year ago Carter became a part of the Hawkeye family. We're still beaming from his response. 🖤💛 https://t.co/FXihvK5yI3. Tweeted by \u001b[41muiowa\u001b[0m\n",
      "Another day, another top 5 college town ranking for #IowaCity. This one comes from @businessinsider:… https://t.co/xLdshbB3jX. Tweeted by \u001b[41muiowa\u001b[0m\n",
      "Here’s a look at more than 2,500 Hawkeyes creating tomorrow by dancing today during Power Hour. #UIDM24 #FTK 💚 https://t.co/Vgdq3EJ5wL. Tweeted by \u001b[41muiowa\u001b[0m\n"
     ]
    }
   ],
   "source": [
    "from IPython.display import clear_output\n",
    "for tw in results:\n",
    "    print(\"%s. Tweeted by \\033[41m%s\\033[0m\"%(tw.text, tw.user.screen_name))"
   ]
  },
  {
   "cell_type": "markdown",
   "metadata": {},
   "source": [
    "Finally, we can save these text into a file for further analyses. Note that we may want to remove all the newlines within each tweet."
   ]
  },
  {
   "cell_type": "code",
   "execution_count": 38,
   "metadata": {
    "ExecuteTime": {
     "end_time": "2018-02-07T20:57:38.482820Z",
     "start_time": "2018-02-07T20:57:38.477381Z"
    }
   },
   "outputs": [
    {
     "data": {
      "text/plain": [
       "'Walking in a Hawkeye wonderland. ☃️❄️ https://t.co/ex7PThPrcI'"
      ]
     },
     "execution_count": 38,
     "metadata": {},
     "output_type": "execute_result"
    }
   ],
   "source": [
    "tweet_list = [tw.text.replace('\\n', ' ') for tw in results]\n",
    "tweet_list[0]"
   ]
  },
  {
   "cell_type": "code",
   "execution_count": 39,
   "metadata": {
    "ExecuteTime": {
     "end_time": "2018-02-07T20:57:40.151851Z",
     "start_time": "2018-02-07T20:57:40.149072Z"
    }
   },
   "outputs": [],
   "source": [
    "import numpy as np"
   ]
  },
  {
   "cell_type": "code",
   "execution_count": 40,
   "metadata": {
    "ExecuteTime": {
     "end_time": "2018-02-07T20:57:40.472550Z",
     "start_time": "2018-02-07T20:57:40.465308Z"
    }
   },
   "outputs": [],
   "source": [
    "np.savetxt('sample-data/sample_tweets.csv', tweet_list, encoding='utf-8', fmt='%s')"
   ]
  },
  {
   "cell_type": "markdown",
   "metadata": {},
   "source": [
    "---"
   ]
  },
  {
   "cell_type": "markdown",
   "metadata": {},
   "source": [
    "#### Conclusions"
   ]
  },
  {
   "cell_type": "markdown",
   "metadata": {},
   "source": [
    "In this workshop, we went through some examples of using APIs to get various types of data in Python. The last Twitter example is relatively superficial and does not go deep enough to get meaningful data for social media analysis. Here I would like to recommend reading more materials, especially those on ___streaming API___:\n",
    "\n",
    "- http://adilmoujahid.com/posts/2014/07/twitter-analytics/\n",
    "- http://socialmedia-class.org/twittertutorial.html\n",
    "\n",
    "\n",
    "Further, [`tweepy`] package seems to be pretty popular as well: http://www.tweepy.org/"
   ]
  }
 ],
 "metadata": {
  "kernelspec": {
   "display_name": "Python 3",
   "language": "python",
   "name": "python3"
  },
  "language_info": {
   "codemirror_mode": {
    "name": "ipython",
    "version": 3
   },
   "file_extension": ".py",
   "mimetype": "text/x-python",
   "name": "python",
   "nbconvert_exporter": "python",
   "pygments_lexer": "ipython3",
   "version": "3.6.4"
  },
  "toc": {
   "nav_menu": {
    "height": "133px",
    "width": "254px"
   },
   "number_sections": true,
   "sideBar": true,
   "skip_h1_title": false,
   "toc_cell": false,
   "toc_position": {
    "height": "959px",
    "left": "0px",
    "right": "1662.34px",
    "top": "126.003px",
    "width": "204px"
   },
   "toc_section_display": "block",
   "toc_window_display": true
  }
 },
 "nbformat": 4,
 "nbformat_minor": 2
}
