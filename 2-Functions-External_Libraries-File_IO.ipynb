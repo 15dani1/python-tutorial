{
 "cells": [
  {
   "cell_type": "markdown",
   "metadata": {},
   "source": [
    "ISRC Python Workshop: Baiscs II\n",
    "\n",
    "__Functions, File I/O and External Libraries__"
   ]
  },
  {
   "cell_type": "markdown",
   "metadata": {},
   "source": [
    "<hr>"
   ]
  },
  {
   "cell_type": "markdown",
   "metadata": {},
   "source": [
    "@author: Zhiya Zuo\n",
    "\n",
    "@email: zhiya-zuo@uiowa.edu"
   ]
  },
  {
   "cell_type": "markdown",
   "metadata": {},
   "source": [
    "---"
   ]
  },
  {
   "cell_type": "markdown",
   "metadata": {},
   "source": [
    "### Functions"
   ]
  },
  {
   "cell_type": "markdown",
   "metadata": {},
   "source": [
    "Previously, we have already made use of many built-in functions to facilitate programming. Function is a block of codes with input arguments (and, optionally, return values) for specific purposes. In Python ( and many other languages), a function call is as the following:\n",
    "\n",
    "```python\n",
    ">> output = function(input_argument)\n",
    "```"
   ]
  },
  {
   "cell_type": "markdown",
   "metadata": {},
   "source": [
    "For example:"
   ]
  },
  {
   "cell_type": "code",
   "execution_count": 1,
   "metadata": {
    "ExecuteTime": {
     "end_time": "2017-10-21T16:57:55.794157Z",
     "start_time": "2017-10-21T16:57:55.782146Z"
    }
   },
   "outputs": [
    {
     "data": {
      "text/plain": [
       "[0, 1, 2, 3, 4]"
      ]
     },
     "execution_count": 1,
     "metadata": {},
     "output_type": "execute_result"
    }
   ],
   "source": [
    "range(5)"
   ]
  },
  {
   "cell_type": "markdown",
   "metadata": {},
   "source": [
    "Note that we are not limited to built-in functions only. Let's now try make our own functions. Before that, we need to be clear on the structure of a function\n",
    "```python\n",
    "def func_name(arg1, arg2, arg3, ...):\n",
    "    #####################\n",
    "    # Do something here #\n",
    "    #####################\n",
    "    return output\n",
    "```\n",
    "\n",
    "\\* *`return output` is NOT required*"
   ]
  },
  {
   "cell_type": "markdown",
   "metadata": {},
   "source": [
    "In the following example, we make use of `sum`, a built-in function to sum up numeric iterables."
   ]
  },
  {
   "cell_type": "code",
   "execution_count": 2,
   "metadata": {
    "ExecuteTime": {
     "end_time": "2017-10-21T16:57:56.766865Z",
     "start_time": "2017-10-21T16:57:56.762910Z"
    }
   },
   "outputs": [],
   "source": [
    "def mySum(list_to_sum):\n",
    "    return sum(list_to_sum)"
   ]
  },
  {
   "cell_type": "code",
   "execution_count": 3,
   "metadata": {
    "ExecuteTime": {
     "end_time": "2017-10-21T16:57:57.203204Z",
     "start_time": "2017-10-21T16:57:57.197423Z"
    }
   },
   "outputs": [
    {
     "data": {
      "text/plain": [
       "10"
      ]
     },
     "execution_count": 3,
     "metadata": {},
     "output_type": "execute_result"
    }
   ],
   "source": [
    "mySum(range(5))"
   ]
  },
  {
   "cell_type": "markdown",
   "metadata": {},
   "source": [
    "A more complicated one that does not use `sum` function"
   ]
  },
  {
   "cell_type": "code",
   "execution_count": 4,
   "metadata": {
    "ExecuteTime": {
     "end_time": "2017-10-21T16:57:58.168373Z",
     "start_time": "2017-10-21T16:57:58.163149Z"
    }
   },
   "outputs": [],
   "source": [
    "def mySumUsingLoop(list_to_sum):\n",
    "    sum_ = list_to_sum[0]\n",
    "    for item in list_to_sum[1:]:\n",
    "        sum_ += item\n",
    "    return sum_"
   ]
  },
  {
   "cell_type": "code",
   "execution_count": 5,
   "metadata": {
    "ExecuteTime": {
     "end_time": "2017-10-21T16:57:58.403314Z",
     "start_time": "2017-10-21T16:57:58.397344Z"
    }
   },
   "outputs": [
    {
     "data": {
      "text/plain": [
       "10"
      ]
     },
     "execution_count": 5,
     "metadata": {},
     "output_type": "execute_result"
    }
   ],
   "source": [
    "mySumUsingLoop(range(5))"
   ]
  },
  {
   "cell_type": "markdown",
   "metadata": {},
   "source": [
    "*The two example functions are not doing anything interesting but just served as illustrations to build customized functions.*"
   ]
  },
  {
   "cell_type": "markdown",
   "metadata": {},
   "source": [
    "---"
   ]
  },
  {
   "cell_type": "markdown",
   "metadata": {},
   "source": [
    "### FIle I/O"
   ]
  },
  {
   "cell_type": "markdown",
   "metadata": {},
   "source": [
    "This section is about some basics on reading and writing data."
   ]
  },
  {
   "cell_type": "markdown",
   "metadata": {},
   "source": [
    "#### Write data to a file"
   ]
  },
  {
   "cell_type": "code",
   "execution_count": 6,
   "metadata": {
    "ExecuteTime": {
     "end_time": "2017-10-21T16:58:00.176241Z",
     "start_time": "2017-10-21T16:58:00.170708Z"
    }
   },
   "outputs": [],
   "source": [
    "f = open(\"tmp1.csv\", \"w\") # f is a file handler, while \"w\" is the mode (w for write)\n",
    "data = range(10)\n",
    "for item in data:\n",
    "    f.write(str(item))\n",
    "    f.write(\"\\n\") # add newline character\n",
    "f.close() # close the filer handler for security reasons."
   ]
  },
  {
   "cell_type": "markdown",
   "metadata": {},
   "source": [
    "Note that without the typecasting from `int` to `str`, an error will be raised."
   ]
  },
  {
   "cell_type": "markdown",
   "metadata": {},
   "source": [
    "A more commonly used way:"
   ]
  },
  {
   "cell_type": "code",
   "execution_count": 7,
   "metadata": {
    "ExecuteTime": {
     "end_time": "2017-10-21T16:58:00.969000Z",
     "start_time": "2017-10-21T16:58:00.962962Z"
    }
   },
   "outputs": [],
   "source": [
    "data = range(10)\n",
    "with open(\"tmp2.csv\", \"w\") as f: # f is a file handler, while \"w\" is the mode (w for write)\n",
    "    for item in data:\n",
    "        f.write(str(item))\n",
    "        f.write(\"\\n\") # add newline character"
   ]
  },
  {
   "cell_type": "markdown",
   "metadata": {},
   "source": [
    "No need to close because of `with`.\n",
    "\n",
    "See more here:\n",
    "1. https://stackoverflow.com/questions/3012488/what-is-the-python-with-statement-designed-for\n",
    "2. https://docs.python.org/3/whatsnew/2.6.html#pep-343-the-with-statement"
   ]
  },
  {
   "cell_type": "markdown",
   "metadata": {},
   "source": [
    "#### Read data to a file"
   ]
  },
  {
   "cell_type": "code",
   "execution_count": 8,
   "metadata": {
    "ExecuteTime": {
     "end_time": "2017-10-21T16:58:01.809623Z",
     "start_time": "2017-10-21T16:58:01.803668Z"
    }
   },
   "outputs": [
    {
     "name": "stdout",
     "output_type": "stream",
     "text": [
      "['0\\n', '1\\n', '2\\n', '3\\n', '4\\n', '5\\n', '6\\n', '7\\n', '8\\n', '9\\n']\n"
     ]
    }
   ],
   "source": [
    "f = open(\"tmp1.csv\", \"r\") # this time, use read mode\n",
    "contents = [item for item in f] # list comprehension. This is the same as for-loop but more concise\n",
    "print(contents)"
   ]
  },
  {
   "cell_type": "code",
   "execution_count": 9,
   "metadata": {
    "ExecuteTime": {
     "end_time": "2017-10-21T16:58:02.080483Z",
     "start_time": "2017-10-21T16:58:02.075638Z"
    }
   },
   "outputs": [
    {
     "name": "stdout",
     "output_type": "stream",
     "text": [
      "['0', '1', '2', '3', '4', '5', '6', '7', '8', '9']\n"
     ]
    }
   ],
   "source": [
    "contents = [item.strip(\"\\n\") for item in contents] # strip the newline\n",
    "print(contents)"
   ]
  },
  {
   "cell_type": "code",
   "execution_count": 10,
   "metadata": {
    "ExecuteTime": {
     "end_time": "2017-10-21T16:58:02.527968Z",
     "start_time": "2017-10-21T16:58:02.522894Z"
    }
   },
   "outputs": [
    {
     "name": "stdout",
     "output_type": "stream",
     "text": [
      "[0, 1, 2, 3, 4, 5, 6, 7, 8, 9]\n"
     ]
    }
   ],
   "source": [
    "int_values = map(int, contents) # map the values into integer type\n",
    "print(int_values)\n",
    "f.close() # always remember to close the file handler"
   ]
  },
  {
   "cell_type": "markdown",
   "metadata": {},
   "source": [
    "Also using with:"
   ]
  },
  {
   "cell_type": "code",
   "execution_count": 11,
   "metadata": {
    "ExecuteTime": {
     "end_time": "2017-10-21T16:58:03.076223Z",
     "start_time": "2017-10-21T16:58:03.067089Z"
    }
   },
   "outputs": [
    {
     "name": "stdout",
     "output_type": "stream",
     "text": [
      "['0', '1', '2', '3', '4', '5', '6', '7', '8', '9']\n",
      "[0, 1, 2, 3, 4, 5, 6, 7, 8, 9]\n"
     ]
    }
   ],
   "source": [
    "with open(\"tmp.csv\", \"r\") as f:\n",
    "    contents = [item for item in f] # list comprehension. This is the same as for-loop but more concise\n",
    "    contents = [item.strip(\"\\n\") for item in contents] # strip the newline\n",
    "    print(contents)\n",
    "    int_values = map(int, contents) # map the values into integer type\n",
    "    print(int_values)"
   ]
  },
  {
   "cell_type": "markdown",
   "metadata": {},
   "source": [
    "---"
   ]
  },
  {
   "cell_type": "markdown",
   "metadata": {},
   "source": [
    "### Libraries"
   ]
  },
  {
   "cell_type": "markdown",
   "metadata": {},
   "source": [
    "#### Built-in Libraries"
   ]
  },
  {
   "cell_type": "markdown",
   "metadata": {},
   "source": [
    "Python provides many built-in packages to prevent extra work on some common and useful functions\n",
    "\n",
    "We will use __math__ as an example."
   ]
  },
  {
   "cell_type": "code",
   "execution_count": 12,
   "metadata": {
    "ExecuteTime": {
     "end_time": "2017-10-21T16:58:04.566439Z",
     "start_time": "2017-10-21T16:58:04.562953Z"
    }
   },
   "outputs": [],
   "source": [
    "import math # use import to load a library"
   ]
  },
  {
   "cell_type": "code",
   "execution_count": 13,
   "metadata": {
    "ExecuteTime": {
     "end_time": "2017-10-21T16:58:04.850051Z",
     "start_time": "2017-10-21T16:58:04.843124Z"
    }
   },
   "outputs": [
    {
     "name": "stdout",
     "output_type": "stream",
     "text": [
      "e^x = e^3 = 20.085537\n",
      "log(x) = log(3) = 1.098612\n"
     ]
    }
   ],
   "source": [
    "x = 3\n",
    "print(\"e^x = e^3 = %f\"%math.exp(x))\n",
    "print(\"log(x) = log(3) = %f\"%math.log(x))"
   ]
  },
  {
   "cell_type": "markdown",
   "metadata": {},
   "source": [
    "You can also import one specific function:"
   ]
  },
  {
   "cell_type": "code",
   "execution_count": 14,
   "metadata": {
    "ExecuteTime": {
     "end_time": "2017-10-21T16:58:05.624238Z",
     "start_time": "2017-10-21T16:58:05.619027Z"
    }
   },
   "outputs": [
    {
     "name": "stdout",
     "output_type": "stream",
     "text": [
      "20.0855369232\n"
     ]
    }
   ],
   "source": [
    "from math import exp # You can import a specific function\n",
    "print(exp(x)) # This way, you don't need to use math.exp but just exp"
   ]
  },
  {
   "cell_type": "markdown",
   "metadata": {},
   "source": [
    "Or all:"
   ]
  },
  {
   "cell_type": "code",
   "execution_count": 15,
   "metadata": {
    "ExecuteTime": {
     "end_time": "2017-10-21T16:58:06.190453Z",
     "start_time": "2017-10-21T16:58:06.186284Z"
    }
   },
   "outputs": [],
   "source": [
    "from math import * # Import all functions"
   ]
  },
  {
   "cell_type": "code",
   "execution_count": 16,
   "metadata": {
    "ExecuteTime": {
     "end_time": "2017-10-21T16:58:06.470932Z",
     "start_time": "2017-10-21T16:58:06.466085Z"
    }
   },
   "outputs": [
    {
     "name": "stdout",
     "output_type": "stream",
     "text": [
      "20.0855369232\n",
      "1.09861228867\n"
     ]
    }
   ],
   "source": [
    "print(exp(x))\n",
    "print(log(x)) # Before importing math, calling `exp` or `log` will raise errors"
   ]
  },
  {
   "cell_type": "markdown",
   "metadata": {},
   "source": [
    "#### External Libraries"
   ]
  },
  {
   "cell_type": "markdown",
   "metadata": {
    "ExecuteTime": {
     "end_time": "2017-10-21T16:45:05.266743Z",
     "start_time": "2017-10-21T16:45:05.260803Z"
    }
   },
   "source": [
    "There are times you'll want some advanced utility functions not provided by Python. There are many useful packages by developers.\n",
    "\n",
    "We'll use __numpy__ as an example. (__numpy__, __scipy__, __matplotlib__,and probably __pandas__ will be of the most importance to you for data analyses.\n",
    "\n",
    "Installation of packages for Python is the easiest using <a href=\"https://packaging.python.org/installing/\" target=\"_blank\">pip</a>:"
   ]
  },
  {
   "cell_type": "markdown",
   "metadata": {},
   "source": [
    "```bash\n",
    "~$ pip install numpy\n",
    "```"
   ]
  },
  {
   "cell_type": "markdown",
   "metadata": {},
   "source": [
    "Loading external libraries is just the same as built-in ones."
   ]
  },
  {
   "cell_type": "code",
   "execution_count": 17,
   "metadata": {
    "ExecuteTime": {
     "end_time": "2017-10-21T16:58:08.110034Z",
     "start_time": "2017-10-21T16:58:08.106610Z"
    }
   },
   "outputs": [],
   "source": [
    "# After you install numpy, load it\n",
    "import numpy as np # you can use np instead of numpy to call the functions in numpy package"
   ]
  },
  {
   "cell_type": "code",
   "execution_count": 18,
   "metadata": {
    "ExecuteTime": {
     "end_time": "2017-10-21T16:58:08.586999Z",
     "start_time": "2017-10-21T16:58:08.578982Z"
    }
   },
   "outputs": [
    {
     "name": "stdout",
     "output_type": "stream",
     "text": [
      "[[ 1.  2.  3.]\n",
      " [ 4.  5.  6.]]\n",
      "<type 'numpy.ndarray'>\n"
     ]
    }
   ],
   "source": [
    "x = np.array([[1,2,3], [4,5,6]], dtype=np.float) # create a numpy array object, specify the data type as float\n",
    "print(x)\n",
    "print(type(x))"
   ]
  },
  {
   "cell_type": "markdown",
   "metadata": {},
   "source": [
    "__Scipy/Numpy__ provides extensive utilities to manipulate data and simple analysis"
   ]
  },
  {
   "cell_type": "code",
   "execution_count": 19,
   "metadata": {
    "ExecuteTime": {
     "end_time": "2017-10-21T16:58:10.113433Z",
     "start_time": "2017-10-21T16:58:09.803158Z"
    }
   },
   "outputs": [],
   "source": [
    "from scipy.stats import pearsonr, spearmanr # correlation functions"
   ]
  },
  {
   "cell_type": "code",
   "execution_count": 20,
   "metadata": {
    "ExecuteTime": {
     "end_time": "2017-10-21T16:58:10.210035Z",
     "start_time": "2017-10-21T16:58:10.202384Z"
    }
   },
   "outputs": [
    {
     "name": "stdout",
     "output_type": "stream",
     "text": [
      "(1.0, 0.0)\n",
      "SpearmanrResult(correlation=1.0, pvalue=0.0)\n"
     ]
    }
   ],
   "source": [
    "print(pearsonr(x[1, :], x[0, :]))\n",
    "print(spearmanr(x[1, :], x[0, :]))"
   ]
  },
  {
   "cell_type": "markdown",
   "metadata": {},
   "source": [
    "__Pandas__ (Python Data Analysis Library) is a great package for data structures: `DataFrame`"
   ]
  },
  {
   "cell_type": "code",
   "execution_count": 21,
   "metadata": {
    "ExecuteTime": {
     "end_time": "2017-10-21T16:58:11.251294Z",
     "start_time": "2017-10-21T16:58:11.059393Z"
    }
   },
   "outputs": [],
   "source": [
    "import pandas as pd"
   ]
  },
  {
   "cell_type": "code",
   "execution_count": 22,
   "metadata": {
    "ExecuteTime": {
     "end_time": "2017-10-21T16:58:11.690748Z",
     "start_time": "2017-10-21T16:58:11.675764Z"
    }
   },
   "outputs": [
    {
     "data": {
      "text/html": [
       "<div>\n",
       "<style>\n",
       "    .dataframe thead tr:only-child th {\n",
       "        text-align: right;\n",
       "    }\n",
       "\n",
       "    .dataframe thead th {\n",
       "        text-align: left;\n",
       "    }\n",
       "\n",
       "    .dataframe tbody tr th {\n",
       "        vertical-align: top;\n",
       "    }\n",
       "</style>\n",
       "<table border=\"1\" class=\"dataframe\">\n",
       "  <thead>\n",
       "    <tr style=\"text-align: right;\">\n",
       "      <th></th>\n",
       "      <th>0</th>\n",
       "      <th>1</th>\n",
       "      <th>2</th>\n",
       "    </tr>\n",
       "  </thead>\n",
       "  <tbody>\n",
       "    <tr>\n",
       "      <th>0</th>\n",
       "      <td>1.0</td>\n",
       "      <td>2.0</td>\n",
       "      <td>3.0</td>\n",
       "    </tr>\n",
       "    <tr>\n",
       "      <th>1</th>\n",
       "      <td>4.0</td>\n",
       "      <td>5.0</td>\n",
       "      <td>6.0</td>\n",
       "    </tr>\n",
       "  </tbody>\n",
       "</table>\n",
       "</div>"
      ],
      "text/plain": [
       "     0    1    2\n",
       "0  1.0  2.0  3.0\n",
       "1  4.0  5.0  6.0"
      ]
     },
     "execution_count": 22,
     "metadata": {},
     "output_type": "execute_result"
    }
   ],
   "source": [
    "x_df = pd.DataFrame(x)\n",
    "x_df"
   ]
  },
  {
   "cell_type": "markdown",
   "metadata": {},
   "source": [
    "Easy import/export"
   ]
  },
  {
   "cell_type": "code",
   "execution_count": 23,
   "metadata": {
    "ExecuteTime": {
     "end_time": "2017-10-21T16:58:12.838708Z",
     "start_time": "2017-10-21T16:58:12.834313Z"
    }
   },
   "outputs": [],
   "source": [
    "x_df.to_csv('tmp_pd.csv', index=False) # `index=False`: do not write row indices to file"
   ]
  },
  {
   "cell_type": "code",
   "execution_count": 24,
   "metadata": {
    "ExecuteTime": {
     "end_time": "2017-10-21T16:58:13.145226Z",
     "start_time": "2017-10-21T16:58:13.139860Z"
    }
   },
   "outputs": [],
   "source": [
    "df = pd.read_csv('tmp_pd.csv')"
   ]
  },
  {
   "cell_type": "code",
   "execution_count": 25,
   "metadata": {
    "ExecuteTime": {
     "end_time": "2017-10-21T16:58:13.443684Z",
     "start_time": "2017-10-21T16:58:13.429289Z"
    }
   },
   "outputs": [
    {
     "data": {
      "text/html": [
       "<div>\n",
       "<style>\n",
       "    .dataframe thead tr:only-child th {\n",
       "        text-align: right;\n",
       "    }\n",
       "\n",
       "    .dataframe thead th {\n",
       "        text-align: left;\n",
       "    }\n",
       "\n",
       "    .dataframe tbody tr th {\n",
       "        vertical-align: top;\n",
       "    }\n",
       "</style>\n",
       "<table border=\"1\" class=\"dataframe\">\n",
       "  <thead>\n",
       "    <tr style=\"text-align: right;\">\n",
       "      <th></th>\n",
       "      <th>0</th>\n",
       "      <th>1</th>\n",
       "      <th>2</th>\n",
       "    </tr>\n",
       "  </thead>\n",
       "  <tbody>\n",
       "    <tr>\n",
       "      <th>0</th>\n",
       "      <td>1.0</td>\n",
       "      <td>2.0</td>\n",
       "      <td>3.0</td>\n",
       "    </tr>\n",
       "    <tr>\n",
       "      <th>1</th>\n",
       "      <td>4.0</td>\n",
       "      <td>5.0</td>\n",
       "      <td>6.0</td>\n",
       "    </tr>\n",
       "  </tbody>\n",
       "</table>\n",
       "</div>"
      ],
      "text/plain": [
       "     0    1    2\n",
       "0  1.0  2.0  3.0\n",
       "1  4.0  5.0  6.0"
      ]
     },
     "execution_count": 25,
     "metadata": {},
     "output_type": "execute_result"
    }
   ],
   "source": [
    "df"
   ]
  }
 ],
 "metadata": {
  "hide_input": false,
  "kernelspec": {
   "display_name": "Python 2",
   "language": "python",
   "name": "python2"
  },
  "language_info": {
   "codemirror_mode": {
    "name": "ipython",
    "version": 2
   },
   "file_extension": ".py",
   "mimetype": "text/x-python",
   "name": "python",
   "nbconvert_exporter": "python",
   "pygments_lexer": "ipython2",
   "version": "2.7.14"
  },
  "toc": {
   "nav_menu": {},
   "number_sections": true,
   "sideBar": true,
   "skip_h1_title": false,
   "toc_cell": false,
   "toc_position": {
    "height": "840px",
    "left": "0px",
    "right": "1111px",
    "top": "113px",
    "width": "284px"
   },
   "toc_section_display": "block",
   "toc_window_display": true
  },
  "varInspector": {
   "cols": {
    "lenName": 16,
    "lenType": 16,
    "lenVar": 40
   },
   "kernels_config": {
    "python": {
     "delete_cmd_postfix": "",
     "delete_cmd_prefix": "del ",
     "library": "var_list.py",
     "varRefreshCmd": "print(var_dic_list())"
    },
    "r": {
     "delete_cmd_postfix": ") ",
     "delete_cmd_prefix": "rm(",
     "library": "var_list.r",
     "varRefreshCmd": "cat(var_dic_list()) "
    }
   },
   "types_to_exclude": [
    "module",
    "function",
    "builtin_function_or_method",
    "instance",
    "_Feature"
   ],
   "window_display": false
  }
 },
 "nbformat": 4,
 "nbformat_minor": 2
}
