{
 "cells": [
  {
   "cell_type": "markdown",
   "metadata": {},
   "source": [
    "ISRC Python Workshop: Data Mining in Python with [`scikit-learn`](http://scikit-learn.org/)\n",
    "\n",
    "___Data Mining in Python___"
   ]
  },
  {
   "cell_type": "markdown",
   "metadata": {},
   "source": [
    "<hr>"
   ]
  },
  {
   "cell_type": "markdown",
   "metadata": {},
   "source": [
    "@author: Zhiya Zuo\n",
    "\n",
    "@email: zhiya-zuo@uiowa.edu"
   ]
  },
  {
   "cell_type": "markdown",
   "metadata": {},
   "source": [
    "---"
   ]
  },
  {
   "cell_type": "markdown",
   "metadata": {},
   "source": [
    "#### Introduction"
   ]
  },
  {
   "cell_type": "markdown",
   "metadata": {},
   "source": [
    "We as humans are experts learning patterns from our own experience and datasets. Data mining is to ask machines to do this task for us -- the process of extracting patterns from datasets that we can generalize to unseen ones."
   ]
  },
  {
   "cell_type": "markdown",
   "metadata": {},
   "source": [
    "In this notebook, we will walk through the typical process of data mining in Python with one of the most popular libraries, [`scikit-learn`](http://scikit-learn.org/). I believe Anaconda has a recent version of it contained. If not, we can simply do:\n",
    "```bash\n",
    "pip install -U scikit-learn\n",
    "```"
   ]
  },
  {
   "cell_type": "markdown",
   "metadata": {},
   "source": [
    "After that, we can see if we really have it:"
   ]
  },
  {
   "cell_type": "code",
   "execution_count": 1,
   "metadata": {
    "ExecuteTime": {
     "end_time": "2018-10-29T03:48:29.824231Z",
     "start_time": "2018-10-29T03:48:29.401488Z"
    }
   },
   "outputs": [
    {
     "name": "stderr",
     "output_type": "stream",
     "text": [
      "/Users/zhiyzuo/.virtualenvs/py3/lib/python3.7/site-packages/sklearn/utils/__init__.py:4: DeprecationWarning: Using or importing the ABCs from 'collections' instead of from 'collections.abc' is deprecated, and in 3.8 it will stop working\n",
      "  from collections import Sequence\n"
     ]
    },
    {
     "data": {
      "text/plain": [
       "'0.20.dev0'"
      ]
     },
     "execution_count": 1,
     "metadata": {},
     "output_type": "execute_result"
    }
   ],
   "source": [
    "import sklearn\n",
    "sklearn.__version__"
   ]
  },
  {
   "cell_type": "markdown",
   "metadata": {},
   "source": [
    "`__version__` is a _property_ of a package that tells us what version we are using on our machine. In my case, it is the developer version `0.20.dev0`"
   ]
  },
  {
   "cell_type": "markdown",
   "metadata": {},
   "source": [
    "---"
   ]
  },
  {
   "cell_type": "markdown",
   "metadata": {},
   "source": [
    "#### Data representation"
   ]
  },
  {
   "cell_type": "markdown",
   "metadata": {},
   "source": [
    "For simplicity, we are only dealing with tabular data. Other forms of unstructured data such as text, image, and video, are in fact, if not more, equivalently important in data mining. Nonetheless, they beyond the scope of this workshop."
   ]
  },
  {
   "cell_type": "markdown",
   "metadata": {},
   "source": [
    "By tabular data, I mean _a spreadsheet-like dataset_ that has rows and columns, where:\n",
    "- rows: observations\n",
    "- columns: features/variables"
   ]
  },
  {
   "cell_type": "markdown",
   "metadata": {},
   "source": [
    "As an example, let's use a toy dataset in [`sklearn.datasets` module](http://scikit-learn.org/stable/datasets/index.html#datasets): `boston housing prices`"
   ]
  },
  {
   "cell_type": "markdown",
   "metadata": {},
   "source": [
    "Recall that we can use `import XXX as Y` to simply the library names."
   ]
  },
  {
   "cell_type": "code",
   "execution_count": 2,
   "metadata": {
    "ExecuteTime": {
     "end_time": "2018-10-29T03:48:30.609397Z",
     "start_time": "2018-10-29T03:48:29.826959Z"
    }
   },
   "outputs": [],
   "source": [
    "import sklearn.datasets as skdata"
   ]
  },
  {
   "cell_type": "code",
   "execution_count": 3,
   "metadata": {
    "ExecuteTime": {
     "end_time": "2018-10-29T03:48:30.653331Z",
     "start_time": "2018-10-29T03:48:30.620578Z"
    }
   },
   "outputs": [
    {
     "data": {
      "text/plain": [
       "sklearn.utils.Bunch"
      ]
     },
     "execution_count": 3,
     "metadata": {},
     "output_type": "execute_result"
    }
   ],
   "source": [
    "boston_dat = skdata.load_boston()\n",
    "type(boston_dat)"
   ]
  },
  {
   "cell_type": "markdown",
   "metadata": {},
   "source": [
    "The returned type, by default, is `sklearn.utils.Bunch`, something similar to a dictionary."
   ]
  },
  {
   "cell_type": "code",
   "execution_count": 4,
   "metadata": {
    "ExecuteTime": {
     "end_time": "2018-10-29T03:48:30.666164Z",
     "start_time": "2018-10-29T03:48:30.659341Z"
    }
   },
   "outputs": [
    {
     "data": {
      "text/plain": [
       "dict_keys(['data', 'target', 'feature_names', 'DESCR', 'filename'])"
      ]
     },
     "execution_count": 4,
     "metadata": {},
     "output_type": "execute_result"
    }
   ],
   "source": [
    "boston_dat.keys()"
   ]
  },
  {
   "cell_type": "code",
   "execution_count": 5,
   "metadata": {
    "ExecuteTime": {
     "end_time": "2018-10-29T03:48:30.679531Z",
     "start_time": "2018-10-29T03:48:30.672477Z"
    }
   },
   "outputs": [
    {
     "data": {
      "text/plain": [
       "'/Users/zhiyzuo/.virtualenvs/py3/lib/python3.7/site-packages/sklearn/datasets/data/boston_house_prices.csv'"
      ]
     },
     "execution_count": 5,
     "metadata": {},
     "output_type": "execute_result"
    }
   ],
   "source": [
    "boston_dat['filename']"
   ]
  },
  {
   "cell_type": "code",
   "execution_count": 6,
   "metadata": {
    "ExecuteTime": {
     "end_time": "2018-10-29T03:48:30.692756Z",
     "start_time": "2018-10-29T03:48:30.685949Z"
    }
   },
   "outputs": [
    {
     "name": "stdout",
     "output_type": "stream",
     "text": [
      ".. _boston_dataset:\n",
      "\n",
      "Boston house prices dataset\n",
      "---------------------------\n",
      "\n",
      "**Data Set Characteristics:**  \n",
      "\n",
      "    :Number of Instances: 506 \n",
      "\n",
      "    :Number of Attributes: 13 numeric/categorical predictive. Median Value (attribute 14) is usually the target.\n",
      "\n",
      "    :Attribute Information (in order):\n",
      "        - CRIM     per capita crime rate by town\n",
      "        - ZN       proportion of residential land zoned for lots over 25,000 sq.ft.\n",
      "        - INDUS    proportion of non-retail business acres per town\n",
      "        - CHAS     Charles River dummy variable (= 1 if tract bounds river; 0 otherwise)\n",
      "        - NOX      nitric oxides concentration (parts per 10 million)\n",
      "        - RM       average number of rooms per dwelling\n",
      "        - AGE      proportion of owner-occupied units built prior to 1940\n",
      "        - DIS      weighted distances to five Boston employment centres\n",
      "        - RAD      index of accessibility to radial highways\n",
      "        - TAX      full-value property-tax rate per $10,000\n",
      "        - PTRATIO  pupil-teacher ratio by town\n",
      "        - B        1000(Bk - 0.63)^2 where Bk is the proportion of blacks by town\n",
      "        - LSTAT    % lower status of the population\n",
      "        - MEDV     Median value of owner-occupied homes in $1000's\n",
      "\n",
      "    :Missing Attribute Values: None\n",
      "\n",
      "    :Creator: Harrison, D. and Rubinfeld, D.L.\n",
      "\n",
      "This is a copy of UCI ML housing dataset.\n",
      "https://archive.ics.uci.edu/ml/machine-learning-databases/housing/\n",
      "\n",
      "\n",
      "This dataset was taken from the StatLib library which is maintained at Carnegie Mellon University.\n",
      "\n",
      "The Boston house-price data of Harrison, D. and Rubinfeld, D.L. 'Hedonic\n",
      "prices and the demand for clean air', J. Environ. Economics & Management,\n",
      "vol.5, 81-102, 1978.   Used in Belsley, Kuh & Welsch, 'Regression diagnostics\n",
      "...', Wiley, 1980.   N.B. Various transformations are used in the table on\n",
      "pages 244-261 of the latter.\n",
      "\n",
      "The Boston house-price data has been used in many machine learning papers that address regression\n",
      "problems.   \n",
      "     \n",
      ".. topic:: References\n",
      "\n",
      "   - Belsley, Kuh & Welsch, 'Regression diagnostics: Identifying Influential Data and Sources of Collinearity', Wiley, 1980. 244-261.\n",
      "   - Quinlan,R. (1993). Combining Instance-Based and Model-Based Learning. In Proceedings on the Tenth International Conference of Machine Learning, 236-243, University of Massachusetts, Amherst. Morgan Kaufmann.\n",
      "\n"
     ]
    }
   ],
   "source": [
    "print(boston_dat['DESCR'])"
   ]
  },
  {
   "cell_type": "markdown",
   "metadata": {},
   "source": [
    "The real data is in the key of `data`:"
   ]
  },
  {
   "cell_type": "code",
   "execution_count": 7,
   "metadata": {
    "ExecuteTime": {
     "end_time": "2018-10-29T03:48:30.707433Z",
     "start_time": "2018-10-29T03:48:30.696251Z"
    }
   },
   "outputs": [
    {
     "data": {
      "text/plain": [
       "array([[6.3200e-03, 1.8000e+01, 2.3100e+00, ..., 1.5300e+01, 3.9690e+02,\n",
       "        4.9800e+00],\n",
       "       [2.7310e-02, 0.0000e+00, 7.0700e+00, ..., 1.7800e+01, 3.9690e+02,\n",
       "        9.1400e+00],\n",
       "       [2.7290e-02, 0.0000e+00, 7.0700e+00, ..., 1.7800e+01, 3.9283e+02,\n",
       "        4.0300e+00],\n",
       "       ...,\n",
       "       [6.0760e-02, 0.0000e+00, 1.1930e+01, ..., 2.1000e+01, 3.9690e+02,\n",
       "        5.6400e+00],\n",
       "       [1.0959e-01, 0.0000e+00, 1.1930e+01, ..., 2.1000e+01, 3.9345e+02,\n",
       "        6.4800e+00],\n",
       "       [4.7410e-02, 0.0000e+00, 1.1930e+01, ..., 2.1000e+01, 3.9690e+02,\n",
       "        7.8800e+00]])"
      ]
     },
     "execution_count": 7,
     "metadata": {},
     "output_type": "execute_result"
    }
   ],
   "source": [
    "dat = boston_dat['data']\n",
    "dat"
   ]
  },
  {
   "cell_type": "markdown",
   "metadata": {},
   "source": [
    "Therefore, it is in fact stored as a `numpy.ndarray`! If you forgot, feel free to check out our [preivous notebook](https://github.com/zhiyzuo/python-tutorial/blob/master/2-Functions-External_Libraries-File_IO.ipynb) on this topic."
   ]
  },
  {
   "cell_type": "code",
   "execution_count": 8,
   "metadata": {
    "ExecuteTime": {
     "end_time": "2018-10-29T03:48:30.720826Z",
     "start_time": "2018-10-29T03:48:30.713165Z"
    }
   },
   "outputs": [
    {
     "data": {
      "text/plain": [
       "(506, 13)"
      ]
     },
     "execution_count": 8,
     "metadata": {},
     "output_type": "execute_result"
    }
   ],
   "source": [
    "dat.shape"
   ]
  },
  {
   "cell_type": "markdown",
   "metadata": {},
   "source": [
    "As described above, each row in this case is probably a town-level set of features, containing crime rates and so on.k"
   ]
  },
  {
   "cell_type": "markdown",
   "metadata": {},
   "source": [
    "The corresponding target is stored as:"
   ]
  },
  {
   "cell_type": "code",
   "execution_count": 9,
   "metadata": {
    "ExecuteTime": {
     "end_time": "2018-10-29T03:48:30.732718Z",
     "start_time": "2018-10-29T03:48:30.724302Z"
    }
   },
   "outputs": [
    {
     "data": {
      "text/plain": [
       "506"
      ]
     },
     "execution_count": 9,
     "metadata": {},
     "output_type": "execute_result"
    }
   ],
   "source": [
    "tar = boston_dat['target']\n",
    "tar.size"
   ]
  },
  {
   "cell_type": "markdown",
   "metadata": {},
   "source": [
    "Note that in using scikit-learn, we usually need seperate X/y, which are features/targets respectively. We can obtain this by doing:"
   ]
  },
  {
   "cell_type": "code",
   "execution_count": 10,
   "metadata": {
    "ExecuteTime": {
     "end_time": "2018-10-29T03:48:30.761254Z",
     "start_time": "2018-10-29T03:48:30.736457Z"
    }
   },
   "outputs": [
    {
     "data": {
      "text/plain": [
       "(506, 13)"
      ]
     },
     "execution_count": 10,
     "metadata": {},
     "output_type": "execute_result"
    }
   ],
   "source": [
    "boston_X, boston_y = skdata.load_boston(return_X_y=True) # by default `return_X_y` is False\n",
    "boston_X.shape"
   ]
  },
  {
   "cell_type": "code",
   "execution_count": 11,
   "metadata": {
    "ExecuteTime": {
     "end_time": "2018-10-29T03:48:30.771837Z",
     "start_time": "2018-10-29T03:48:30.764905Z"
    }
   },
   "outputs": [
    {
     "data": {
      "text/plain": [
       "506"
      ]
     },
     "execution_count": 11,
     "metadata": {},
     "output_type": "execute_result"
    }
   ],
   "source": [
    "boston_y.size"
   ]
  },
  {
   "cell_type": "markdown",
   "metadata": {
    "ExecuteTime": {
     "end_time": "2018-10-26T03:32:22.484066Z",
     "start_time": "2018-10-26T03:32:22.478797Z"
    }
   },
   "source": [
    "We can make sure that these two methods generate the same datasets:"
   ]
  },
  {
   "cell_type": "code",
   "execution_count": 12,
   "metadata": {
    "ExecuteTime": {
     "end_time": "2018-10-29T03:48:30.781481Z",
     "start_time": "2018-10-29T03:48:30.775306Z"
    }
   },
   "outputs": [],
   "source": [
    "import numpy as np"
   ]
  },
  {
   "cell_type": "markdown",
   "metadata": {},
   "source": [
    "`np.all` checks if _ALL_ elements in the input array are `True` (not `False`)"
   ]
  },
  {
   "cell_type": "code",
   "execution_count": 13,
   "metadata": {
    "ExecuteTime": {
     "end_time": "2018-10-29T03:48:30.802726Z",
     "start_time": "2018-10-29T03:48:30.785637Z"
    }
   },
   "outputs": [
    {
     "data": {
      "text/plain": [
       "True"
      ]
     },
     "execution_count": 13,
     "metadata": {},
     "output_type": "execute_result"
    }
   ],
   "source": [
    "np.all(tar==boston_y)"
   ]
  },
  {
   "cell_type": "code",
   "execution_count": 14,
   "metadata": {
    "ExecuteTime": {
     "end_time": "2018-10-29T03:48:30.813868Z",
     "start_time": "2018-10-29T03:48:30.806905Z"
    }
   },
   "outputs": [
    {
     "data": {
      "text/plain": [
       "True"
      ]
     },
     "execution_count": 14,
     "metadata": {},
     "output_type": "execute_result"
    }
   ],
   "source": [
    "np.all(dat==boston_X)"
   ]
  },
  {
   "cell_type": "markdown",
   "metadata": {},
   "source": [
    "---"
   ]
  },
  {
   "cell_type": "markdown",
   "metadata": {},
   "source": [
    "#### A starter: Linear regression with artifical data"
   ]
  },
  {
   "cell_type": "markdown",
   "metadata": {},
   "source": [
    "##### Create the fake data"
   ]
  },
  {
   "cell_type": "markdown",
   "metadata": {},
   "source": [
    "Let's start with Mr. Linear Regression. As for the dataset, we will go with a manually created data so that we know the ground truth."
   ]
  },
  {
   "cell_type": "code",
   "execution_count": 15,
   "metadata": {
    "ExecuteTime": {
     "end_time": "2018-10-29T03:48:30.831899Z",
     "start_time": "2018-10-29T03:48:30.817177Z"
    }
   },
   "outputs": [
    {
     "data": {
      "text/plain": [
       "array([[0],\n",
       "       [1],\n",
       "       [2],\n",
       "       [3],\n",
       "       [4],\n",
       "       [5],\n",
       "       [6],\n",
       "       [7],\n",
       "       [8],\n",
       "       [9]])"
      ]
     },
     "execution_count": 15,
     "metadata": {},
     "output_type": "execute_result"
    }
   ],
   "source": [
    "X = np.arange(10).reshape(10,1)\n",
    "X"
   ]
  },
  {
   "cell_type": "markdown",
   "metadata": {},
   "source": [
    "The target will be the linear transformation of `X` with some Gaussian noise"
   ]
  },
  {
   "cell_type": "code",
   "execution_count": 16,
   "metadata": {
    "ExecuteTime": {
     "end_time": "2018-10-29T03:48:30.849762Z",
     "start_time": "2018-10-29T03:48:30.835566Z"
    }
   },
   "outputs": [
    {
     "data": {
      "text/plain": [
       "array([ 3.12950086,  9.24843643, 13.73908465, 19.11163377, 22.25528945,\n",
       "       27.52722898, 33.98713211, 37.85639859, 42.7750505 , 47.14890224])"
      ]
     },
     "execution_count": 16,
     "metadata": {},
     "output_type": "execute_result"
    }
   ],
   "source": [
    "y = 5*np.arange(10) + 3 + np.random.normal(loc=0, scale=1, size=X.shape[0])\n",
    "y"
   ]
  },
  {
   "cell_type": "markdown",
   "metadata": {},
   "source": [
    "Visualization is always the best tool for preliminary analysis so that we know what's going on, especially when the dataset is simple. For a more complete intro to visualization in Python, please refer to [this notebook](https://github.com/zhiyzuo/python-tutorial/blob/master/4-Visualization-with-Matplotlib.ipynb)"
   ]
  },
  {
   "cell_type": "code",
   "execution_count": 17,
   "metadata": {
    "ExecuteTime": {
     "end_time": "2018-10-29T03:48:31.502101Z",
     "start_time": "2018-10-29T03:48:30.853104Z"
    }
   },
   "outputs": [],
   "source": [
    "from matplotlib import pyplot as plt\n",
    "# this means we will show the figures inline in the notebook\n",
    "%matplotlib inline "
   ]
  },
  {
   "cell_type": "code",
   "execution_count": 18,
   "metadata": {
    "ExecuteTime": {
     "end_time": "2018-10-29T03:48:31.686392Z",
     "start_time": "2018-10-29T03:48:31.504946Z"
    }
   },
   "outputs": [
    {
     "data": {
      "text/plain": [
       "<matplotlib.collections.PathCollection at 0x11333bcc0>"
      ]
     },
     "execution_count": 18,
     "metadata": {},
     "output_type": "execute_result"
    },
    {
     "data": {
      "image/png": "[encoded data removed]",
      "text/plain": [
       "<Figure size 432x288 with 1 Axes>"
      ]
     },
     "metadata": {},
     "output_type": "display_data"
    }
   ],
   "source": [
    "plt.scatter(X, y, marker='+', c='k', s=100)"
   ]
  },
  {
   "cell_type": "markdown",
   "metadata": {},
   "source": [
    "See? It's a very obvious straight line trend."
   ]
  },
  {
   "cell_type": "markdown",
   "metadata": {},
   "source": [
    "Now let's use scikit-learn to help us find the coefficients of this line. All the _linear models_ are in [`sklearn.linear_model` module](http://scikit-learn.org/stable/modules/linear_model.html#linear-model)"
   ]
  },
  {
   "cell_type": "markdown",
   "metadata": {},
   "source": [
    "##### Example: Running linear regression "
   ]
  },
  {
   "cell_type": "markdown",
   "metadata": {},
   "source": [
    "In scikit-learn, the process of using a model goes like this:\n",
    "- Import the model\n",
    "- Instantiate an object, with the desired parameters of the model \n",
    "    - Note that it is not always necessary. We can use cross validation and grid search to find out the relatively optimal sets of hyperparameters of our model (see the following sections for more details)\n",
    "- Apply `fit()` function of the model to _train_ it given the data\n",
    "- Apply `predict()` function to predict either seen or unseen data points depending on what we want"
   ]
  },
  {
   "cell_type": "code",
   "execution_count": 19,
   "metadata": {
    "ExecuteTime": {
     "end_time": "2018-10-29T03:48:31.986157Z",
     "start_time": "2018-10-29T03:48:31.689255Z"
    }
   },
   "outputs": [],
   "source": [
    "from sklearn.linear_model import LinearRegression"
   ]
  },
  {
   "cell_type": "markdown",
   "metadata": {},
   "source": [
    "First, we need to instantiate an object of `LinearRegression` class."
   ]
  },
  {
   "cell_type": "code",
   "execution_count": 20,
   "metadata": {
    "ExecuteTime": {
     "end_time": "2018-10-29T03:48:31.995332Z",
     "start_time": "2018-10-29T03:48:31.988813Z"
    }
   },
   "outputs": [
    {
     "data": {
      "text/plain": [
       "LinearRegression(copy_X=True, fit_intercept=True, n_jobs=1, normalize=False)"
      ]
     },
     "execution_count": 20,
     "metadata": {},
     "output_type": "execute_result"
    }
   ],
   "source": [
    "lr = LinearRegression()\n",
    "lr"
   ]
  },
  {
   "cell_type": "markdown",
   "metadata": {},
   "source": [
    "`lr` here will help us conduct the optimization of _least square errors_ based on the given data"
   ]
  },
  {
   "cell_type": "markdown",
   "metadata": {},
   "source": [
    "`fit()` usually takes the features and targets so that the parameters of the model can be adjusted to best fit our model for future use. In this case, we want to know the regression coefficients (and maybe the intercept.)"
   ]
  },
  {
   "cell_type": "code",
   "execution_count": 21,
   "metadata": {
    "ExecuteTime": {
     "end_time": "2018-10-29T03:48:32.023731Z",
     "start_time": "2018-10-29T03:48:31.998722Z"
    }
   },
   "outputs": [
    {
     "name": "stderr",
     "output_type": "stream",
     "text": [
      "/Users/zhiyzuo/.virtualenvs/py3/lib/python3.7/site-packages/sklearn/linear_model/base.py:435: RuntimeWarning: internal gelsd driver lwork query error, required iwork dimension not returned. This is likely the result of LAPACK bug 0038, fixed in LAPACK 3.2.2 (released July 21, 2010). Falling back to 'gelss' driver.\n",
      "  linalg.lstsq(X, y)\n"
     ]
    },
    {
     "data": {
      "text/plain": [
       "LinearRegression(copy_X=True, fit_intercept=True, n_jobs=1, normalize=False)"
      ]
     },
     "execution_count": 21,
     "metadata": {},
     "output_type": "execute_result"
    }
   ],
   "source": [
    "lr.fit(X, y)"
   ]
  },
  {
   "cell_type": "markdown",
   "metadata": {},
   "source": [
    "Now we have a fitted model. We can check out the coefficients now:"
   ]
  },
  {
   "cell_type": "code",
   "execution_count": 22,
   "metadata": {
    "ExecuteTime": {
     "end_time": "2018-10-29T03:48:32.032942Z",
     "start_time": "2018-10-29T03:48:32.026335Z"
    }
   },
   "outputs": [
    {
     "data": {
      "text/plain": [
       "array([4.85664191])"
      ]
     },
     "execution_count": 22,
     "metadata": {},
     "output_type": "execute_result"
    }
   ],
   "source": [
    "lr.coef_"
   ]
  },
  {
   "cell_type": "code",
   "execution_count": 23,
   "metadata": {
    "ExecuteTime": {
     "end_time": "2018-10-29T03:48:32.048668Z",
     "start_time": "2018-10-29T03:48:32.038518Z"
    }
   },
   "outputs": [
    {
     "data": {
      "text/plain": [
       "3.8229771628032516"
      ]
     },
     "execution_count": 23,
     "metadata": {},
     "output_type": "execute_result"
    }
   ],
   "source": [
    "lr.intercept_"
   ]
  },
  {
   "cell_type": "markdown",
   "metadata": {},
   "source": [
    "##### Evaluate the fit"
   ]
  },
  {
   "cell_type": "markdown",
   "metadata": {},
   "source": [
    "To see how it works out more vividly, let's plot the true targets and predicted targets using `lr`:"
   ]
  },
  {
   "cell_type": "code",
   "execution_count": 24,
   "metadata": {
    "ExecuteTime": {
     "end_time": "2018-10-29T03:48:32.058453Z",
     "start_time": "2018-10-29T03:48:32.051797Z"
    }
   },
   "outputs": [
    {
     "data": {
      "text/plain": [
       "array([ 3.82297716,  8.67961907, 13.53626098, 18.39290289, 23.2495448 ,\n",
       "       28.10618671, 32.96282862, 37.81947053, 42.67611244, 47.53275435])"
      ]
     },
     "execution_count": 24,
     "metadata": {},
     "output_type": "execute_result"
    }
   ],
   "source": [
    "y_pred = lr.predict(X)\n",
    "y_pred"
   ]
  },
  {
   "cell_type": "code",
   "execution_count": 25,
   "metadata": {
    "ExecuteTime": {
     "end_time": "2018-10-29T03:48:32.255564Z",
     "start_time": "2018-10-29T03:48:32.061970Z"
    }
   },
   "outputs": [
    {
     "data": {
      "text/plain": [
       "<matplotlib.legend.Legend at 0x113ca9630>"
      ]
     },
     "execution_count": 25,
     "metadata": {},
     "output_type": "execute_result"
    },
    {
     "data": {
      "image/png": "[encoded data removed]",
      "text/plain": [
       "<Figure size 432x288 with 1 Axes>"
      ]
     },
     "metadata": {},
     "output_type": "display_data"
    }
   ],
   "source": [
    "plt.scatter(X, y, label='true', marker='+', c='k', s=100)\n",
    "plt.scatter(X, y_pred, label='pred', marker='^', c='r', s=50)\n",
    "plt.legend()"
   ]
  },
  {
   "cell_type": "markdown",
   "metadata": {},
   "source": [
    "Pretty good, right? Now that we have a taste of how to use the models in scikit-learn, let's move on to more realistic examples."
   ]
  },
  {
   "cell_type": "markdown",
   "metadata": {},
   "source": [
    "---"
   ]
  },
  {
   "cell_type": "markdown",
   "metadata": {},
   "source": [
    "#### Splitting data and model selection"
   ]
  },
  {
   "cell_type": "markdown",
   "metadata": {},
   "source": [
    "##### Explaining by word"
   ]
  },
  {
   "cell_type": "markdown",
   "metadata": {},
   "source": [
    "In the example above, we used ___all the data___ to train our model. From the perspective of explanatory analysis, this is probably fine. However, in many cases, we want to use our fitted model to predict _unseen_ data."
   ]
  },
  {
   "cell_type": "markdown",
   "metadata": {},
   "source": [
    "In this case, training the model with all the data is not going to help: we need to somehow figure out one way to approximate the real predictive power."
   ]
  },
  {
   "cell_type": "markdown",
   "metadata": {},
   "source": [
    "One common way is to split our dataset into _train_ and _test_ sets, where:\n",
    "- train data is used for tuning the model\n",
    "- test data is used for evaluation"
   ]
  },
  {
   "cell_type": "markdown",
   "metadata": {},
   "source": [
    "We can further split _train_ into:\n",
    "- train data for fitting the model with a set of parameters\n",
    "- validation data for evaluating this set of parameters."
   ]
  },
  {
   "cell_type": "markdown",
   "metadata": {},
   "source": [
    "Again, visualization is the way to help:\n",
    "![Imgur](https://i.imgur.com/dRQGfp0.png?1)"
   ]
  },
  {
   "cell_type": "markdown",
   "metadata": {},
   "source": [
    "In this illustration, we split the dataset into _five_ folds, where:\n",
    "- The 1st fold will be held out for evaluation of the _best model we found based on folds two to five_\n",
    "    - Note that usually the model will be _refitted_ using all training fold (2 to 5 in this case)\n",
    "- In one iteration of evaluating one set of parameters $\\lambda$:\n",
    "    - The 2nd fold is a \"inner\" held out $\\lambda$\n",
    "    - The 3rd, 4th, and 5th are for model fitting"
   ]
  },
  {
   "cell_type": "markdown",
   "metadata": {},
   "source": [
    "Then, we can iterate test fold from 1 to 2, 3, 4, and 5 and compute the average performance across five folds."
   ]
  },
  {
   "cell_type": "markdown",
   "metadata": {},
   "source": [
    "##### Example by `KFold`"
   ]
  },
  {
   "cell_type": "markdown",
   "metadata": {},
   "source": [
    "In scikit-learn, many useful functions/classes for the purpose of model selection are from [`sklearn.model_selection`](http://scikit-learn.org/stable/modules/classes.html#module-sklearn.model_selection)"
   ]
  },
  {
   "cell_type": "markdown",
   "metadata": {},
   "source": [
    "In this example, we choose to use [`KFold`](http://scikit-learn.org/stable/modules/generated/sklearn.model_selection.KFold.html) to evenly split our dataset into $K$ fold. Given the small size of our toy dataset, we will go with $K=3$:"
   ]
  },
  {
   "cell_type": "code",
   "execution_count": 26,
   "metadata": {
    "ExecuteTime": {
     "end_time": "2018-10-29T03:48:32.261633Z",
     "start_time": "2018-10-29T03:48:32.258183Z"
    }
   },
   "outputs": [],
   "source": [
    "from sklearn.model_selection import KFold"
   ]
  },
  {
   "cell_type": "code",
   "execution_count": 27,
   "metadata": {
    "ExecuteTime": {
     "end_time": "2018-10-29T03:48:32.267841Z",
     "start_time": "2018-10-29T03:48:32.264528Z"
    }
   },
   "outputs": [],
   "source": [
    "kf = KFold(n_splits=3)"
   ]
  },
  {
   "cell_type": "markdown",
   "metadata": {},
   "source": [
    "`kf` here works as a data splitter where the ___indices___ of the rows (i.e., observations) are exported:"
   ]
  },
  {
   "cell_type": "code",
   "execution_count": 28,
   "metadata": {
    "ExecuteTime": {
     "end_time": "2018-10-29T03:48:32.279300Z",
     "start_time": "2018-10-29T03:48:32.270860Z"
    }
   },
   "outputs": [
    {
     "name": "stdout",
     "output_type": "stream",
     "text": [
      "Train indices: [4 5 6 7 8 9]\n",
      "Test indices: [0 1 2 3]\n",
      "-------------\n",
      "Train indices: [0 1 2 3 7 8 9]\n",
      "Test indices: [4 5 6]\n",
      "-------------\n",
      "Train indices: [0 1 2 3 4 5 6]\n",
      "Test indices: [7 8 9]\n",
      "-------------\n"
     ]
    }
   ],
   "source": [
    "for train_idx, test_idx in kf.split(X):\n",
    "    print('Train indices:', end=' ')\n",
    "    print(train_idx)\n",
    "    print('Test indices:', end=' ')\n",
    "    print(test_idx)\n",
    "    print('-------------')"
   ]
  },
  {
   "cell_type": "markdown",
   "metadata": {},
   "source": [
    "Note that within each train, we can further split into smaller folds for train/validation"
   ]
  },
  {
   "cell_type": "code",
   "execution_count": 29,
   "metadata": {
    "ExecuteTime": {
     "end_time": "2018-10-29T03:48:32.284861Z",
     "start_time": "2018-10-29T03:48:32.281413Z"
    }
   },
   "outputs": [],
   "source": [
    "inner_kf = KFold(2)"
   ]
  },
  {
   "cell_type": "code",
   "execution_count": 30,
   "metadata": {
    "ExecuteTime": {
     "end_time": "2018-10-29T03:48:32.300599Z",
     "start_time": "2018-10-29T03:48:32.288694Z"
    }
   },
   "outputs": [
    {
     "name": "stdout",
     "output_type": "stream",
     "text": [
      "Train indices: [4 5 6 7 8 9]\n",
      "************\n",
      "Inner train: [7 8 9]\n",
      "Inner validation: [4 5 6]\n",
      "************\n",
      "Inner train: [4 5 6]\n",
      "Inner validation: [7 8 9]\n",
      "************\n",
      "Test indices: [0 1 2 3]\n",
      "-------------\n",
      "Train indices: [0 1 2 3 7 8 9]\n",
      "************\n",
      "Inner train: [4 5 6]\n",
      "Inner validation: [0 1 2 3]\n",
      "************\n",
      "Inner train: [0 1 2 3]\n",
      "Inner validation: [4 5 6]\n",
      "************\n",
      "Test indices: [4 5 6]\n",
      "-------------\n",
      "Train indices: [0 1 2 3 4 5 6]\n",
      "************\n",
      "Inner train: [4 5 6]\n",
      "Inner validation: [0 1 2 3]\n",
      "************\n",
      "Inner train: [0 1 2 3]\n",
      "Inner validation: [4 5 6]\n",
      "************\n",
      "Test indices: [7 8 9]\n",
      "-------------\n"
     ]
    }
   ],
   "source": [
    "for train_idx, test_idx in kf.split(X):\n",
    "    print('Train indices:', end=' ')\n",
    "    print(train_idx)\n",
    "    for tr_idx, va_idx in inner_kf.split(X[train_idx, :]):\n",
    "        print('************')\n",
    "        print('Inner train:', end=' ')\n",
    "        print(tr_idx+train_idx[0])\n",
    "        print('Inner validation:', end=' ')\n",
    "        print(va_idx+train_idx[0])\n",
    "    print('************')\n",
    "    print('Test indices:', end=' ')\n",
    "    print(test_idx)\n",
    "    print('-------------')"
   ]
  },
  {
   "cell_type": "markdown",
   "metadata": {},
   "source": [
    "##### Logistic regression with Lasso"
   ]
  },
  {
   "cell_type": "markdown",
   "metadata": {},
   "source": [
    "Regression with Lasso regularization is a popular model for variable selection thanks to the l1 norm penalty on the coefficients. More details in [link](http://scikit-learn.org/stable/modules/generated/sklearn.linear_model.LogisticRegression.html#sklearn.linear_model.LogisticRegression).\n",
    "\n",
    "The important parameter for Lasso is $\\alpha$ - how much do we want to penalize the absolute values of the weights. Quote from the offical documentation:\n",
    "> Constant that multiplies the L1 term. Defaults to 1.0. alpha = 0 is equivalent to an ordinary least square, solved by the LinearRegression object. For numerical reasons, using alpha = 0 with the Lasso object is not advised. Given this, you should use the LinearRegression object."
   ]
  },
  {
   "cell_type": "code",
   "execution_count": 31,
   "metadata": {
    "ExecuteTime": {
     "end_time": "2018-10-29T03:48:32.307940Z",
     "start_time": "2018-10-29T03:48:32.304086Z"
    }
   },
   "outputs": [],
   "source": [
    "from sklearn.linear_model import LogisticRegression"
   ]
  },
  {
   "cell_type": "markdown",
   "metadata": {},
   "source": [
    "For simplicity, we try 3 values:"
   ]
  },
  {
   "cell_type": "code",
   "execution_count": 32,
   "metadata": {
    "ExecuteTime": {
     "end_time": "2018-10-29T03:48:32.314609Z",
     "start_time": "2018-10-29T03:48:32.311204Z"
    }
   },
   "outputs": [],
   "source": [
    "alpha_list = [0.001, 0.003, 0.005]"
   ]
  },
  {
   "cell_type": "markdown",
   "metadata": {},
   "source": [
    "We need a dataset with more variables. Let's use the breast cancer data:"
   ]
  },
  {
   "cell_type": "code",
   "execution_count": 33,
   "metadata": {
    "ExecuteTime": {
     "end_time": "2018-10-29T03:48:32.349357Z",
     "start_time": "2018-10-29T03:48:32.319275Z"
    }
   },
   "outputs": [
    {
     "data": {
      "text/plain": [
       "(569, 30)"
      ]
     },
     "execution_count": 33,
     "metadata": {},
     "output_type": "execute_result"
    }
   ],
   "source": [
    "bc_X, bc_y = skdata.load_breast_cancer(True)\n",
    "bc_X.shape"
   ]
  },
  {
   "cell_type": "code",
   "execution_count": 34,
   "metadata": {
    "ExecuteTime": {
     "end_time": "2018-10-29T03:48:32.359044Z",
     "start_time": "2018-10-29T03:48:32.351955Z"
    }
   },
   "outputs": [
    {
     "data": {
      "text/plain": [
       "569"
      ]
     },
     "execution_count": 34,
     "metadata": {},
     "output_type": "execute_result"
    }
   ],
   "source": [
    "bc_y.size"
   ]
  },
  {
   "cell_type": "markdown",
   "metadata": {},
   "source": [
    "There are two labels/targets: 0 (malignant), 1 (benign)"
   ]
  },
  {
   "cell_type": "code",
   "execution_count": 35,
   "metadata": {
    "ExecuteTime": {
     "end_time": "2018-10-29T03:48:32.369521Z",
     "start_time": "2018-10-29T03:48:32.362227Z"
    }
   },
   "outputs": [
    {
     "data": {
      "text/plain": [
       "(array([0, 1]), array([212, 357]))"
      ]
     },
     "execution_count": 35,
     "metadata": {},
     "output_type": "execute_result"
    }
   ],
   "source": [
    "np.unique(bc_y), np.bincount(bc_y)"
   ]
  },
  {
   "cell_type": "markdown",
   "metadata": {},
   "source": [
    "Using the code block above, we can further plug in model fitting and evaluating code using the inner train/validation datasets.\n",
    "\n",
    " At this moment, we will use _accuracy_ as an evaluation metric. That is, we want to know how many of the predicted labels match the true values."
   ]
  },
  {
   "cell_type": "code",
   "execution_count": 36,
   "metadata": {
    "ExecuteTime": {
     "end_time": "2018-10-29T03:48:32.376713Z",
     "start_time": "2018-10-29T03:48:32.372392Z"
    }
   },
   "outputs": [],
   "source": [
    "kf = KFold(3)\n",
    "inner_kf = KFold(2)"
   ]
  },
  {
   "cell_type": "markdown",
   "metadata": {},
   "source": [
    "Pseudo code for the following cell:\n",
    "- for each split `train_idx, test_idx` do:\n",
    "    - initialize `mean_acc` as a dictionary to save alpha as key and their average accuracy across folds as values\n",
    "    - for each alpha value `a` in `alpha_list`:\n",
    "        - for each split given `train_idx`, do:\n",
    "            - extract subsets of `bc_X` and `bc_y`\n",
    "            - fit a Lasso logistic regression using `a`\n",
    "            - evaluate the fitted model on validation set defined by `va_idx`\n",
    "    - select `best_a` based on the average performance\n",
    "    - fit a new logistic regression model using `best_a` on all the training data (`train_idx`)\n",
    "    - evaluate on the test set (`test_idx`)"
   ]
  },
  {
   "cell_type": "code",
   "execution_count": 37,
   "metadata": {
    "ExecuteTime": {
     "end_time": "2018-10-29T03:48:40.240846Z",
     "start_time": "2018-10-29T03:48:32.379463Z"
    }
   },
   "outputs": [
    {
     "name": "stdout",
     "output_type": "stream",
     "text": [
      "Fold 0 as test...\n",
      "Accuracy for each alpha value: {0.001: 0.9551378446115288, 0.003: 0.9604149262043999, 0.005: 0.9551378446115288}\n",
      "Best alpha picked: 0.003\n",
      "Accuracy on test set:  0.9473684210526315\n",
      "-------------\n",
      "Fold 1 as test...\n",
      "Accuracy for each alpha value: {0.001: 0.9499164578111947, 0.003: 0.9525201893622945, 0.005: 0.9578111946532999}\n",
      "Best alpha picked: 0.005\n",
      "Accuracy on test set:  0.968421052631579\n",
      "-------------\n",
      "Fold 2 as test...\n",
      "Accuracy for each alpha value: {0.001: 0.95, 0.003: 0.9526315789473684, 0.005: 0.9578947368421052}\n",
      "Best alpha picked: 0.005\n",
      "Accuracy on test set:  0.9523809523809523\n",
      "-------------\n"
     ]
    }
   ],
   "source": [
    "for i, (train_idx, test_idx) in enumerate(kf.split(bc_X)):\n",
    "    print('Fold %d as test...'%i)\n",
    "    ## conduct model selection for each train/test split\n",
    "    mean_acc = {a:0 for a in alpha_list}\n",
    "    for a in alpha_list:\n",
    "        #print('Train/validating alpha value', a, '...')\n",
    "        for tr_idx, va_idx in inner_kf.split(bc_X[train_idx, :]):\n",
    "            ## train\n",
    "            tr_idx = tr_idx+train_idx[0]\n",
    "            bc_X_tr, bc_y_tr = bc_X[tr_idx, :], bc_y[tr_idx]\n",
    "            ## l1 norm -> lasso, C is the inverse of penalty constant,\n",
    "            ## max_iter set to higher values for convergence\n",
    "            lasso = LogisticRegression(C=1/a, penalty='l1', max_iter=1000)\n",
    "            lasso.fit(bc_X_tr, bc_y_tr)\n",
    "            ## validate: use score function to obtain the accuracy\n",
    "            va_idx = va_idx+train_idx[0]\n",
    "            ## record the accuracy\n",
    "            mean_acc[a] += lasso.score(bc_X[va_idx, :], bc_y[va_idx])\n",
    "        mean_acc[a] = mean_acc[a]/inner_kf.n_splits\n",
    "    print('Accuracy for each alpha value:', mean_acc)\n",
    "    ## now that we have the dictionary, we should pick the alpha that gives the highest accuracy\n",
    "    best_a = sorted(mean_acc, key=lambda k: mean_acc[k], reverse=True)[0]\n",
    "    print('Best alpha picked: %.3f'%best_a)\n",
    "    ## fit a new model\n",
    "    lasso = LogisticRegression(C=1/best_a, penalty='l1', max_iter=1000)\n",
    "    lasso.fit(bc_X[train_idx], bc_y[train_idx])\n",
    "    print('Accuracy on test set: ', lasso.score(bc_X[test_idx], bc_y[test_idx]))\n",
    "    print('-------------')"
   ]
  },
  {
   "cell_type": "markdown",
   "metadata": {},
   "source": [
    "##### Using [`GridCV`](http://scikit-learn.org/stable/modules/generated/sklearn.model_selection.GridSearchCV.html)"
   ]
  },
  {
   "cell_type": "markdown",
   "metadata": {},
   "source": [
    "In fact, we do not need to use for loop for cross validation manually. Instead, a very convenient class called [`GridCV`](http://scikit-learn.org/stable/modules/generated/sklearn.model_selection.GridSearchCV.html) can be applied for this purpose."
   ]
  },
  {
   "cell_type": "markdown",
   "metadata": {},
   "source": [
    "To put it simple, `GridCV` needs to know what model you want to use and what parameters you want to search for. There are more options you can play with, including the number of parallel jobs to run, evaluation scores (besides accuracy, we can use others such as recall/precision/auc/F1), and so on."
   ]
  },
  {
   "cell_type": "markdown",
   "metadata": {},
   "source": [
    "Using the breast cancer data and logistic regression with the same set of `alpha_list`:"
   ]
  },
  {
   "cell_type": "code",
   "execution_count": 38,
   "metadata": {
    "ExecuteTime": {
     "end_time": "2018-10-29T03:48:40.266480Z",
     "start_time": "2018-10-29T03:48:40.256097Z"
    }
   },
   "outputs": [
    {
     "data": {
      "text/plain": [
       "[0.001, 0.003, 0.005]"
      ]
     },
     "execution_count": 38,
     "metadata": {},
     "output_type": "execute_result"
    }
   ],
   "source": [
    "alpha_list"
   ]
  },
  {
   "cell_type": "markdown",
   "metadata": {},
   "source": [
    "Inverse the alpha values for the `C` parameter in logistic regression model:"
   ]
  },
  {
   "cell_type": "code",
   "execution_count": 39,
   "metadata": {
    "ExecuteTime": {
     "end_time": "2018-10-29T03:48:40.276944Z",
     "start_time": "2018-10-29T03:48:40.270022Z"
    }
   },
   "outputs": [
    {
     "data": {
      "text/plain": [
       "[1000.0, 333.3333333333333, 200.0]"
      ]
     },
     "execution_count": 39,
     "metadata": {},
     "output_type": "execute_result"
    }
   ],
   "source": [
    "C_list = [1/a for a in alpha_list] # list comprehension\n",
    "C_list"
   ]
  },
  {
   "cell_type": "code",
   "execution_count": 40,
   "metadata": {
    "ExecuteTime": {
     "end_time": "2018-10-29T03:48:40.288654Z",
     "start_time": "2018-10-29T03:48:40.280544Z"
    }
   },
   "outputs": [],
   "source": [
    "lasso = LogisticRegression(max_iter=1000, penalty='l1')"
   ]
  },
  {
   "cell_type": "code",
   "execution_count": 41,
   "metadata": {
    "ExecuteTime": {
     "end_time": "2018-10-29T03:48:40.319773Z",
     "start_time": "2018-10-29T03:48:40.298767Z"
    }
   },
   "outputs": [],
   "source": [
    "from sklearn.model_selection import GridSearchCV"
   ]
  },
  {
   "cell_type": "markdown",
   "metadata": {},
   "source": [
    "- The `param_grid` argument takes in a dictionary, where each key is a parameter for the given model and the corresponding value is a list of choices for that parameter.\n",
    "- We can then obtain the best estimator (i.e., model) based on the score on the given train (and validation) dataset and use it to predict the unseen (i.e. test held out) data. By default, the model with the selected parameters will be fitted by the whole training data (train plus validation) once `fit` function is done."
   ]
  },
  {
   "cell_type": "code",
   "execution_count": 42,
   "metadata": {
    "ExecuteTime": {
     "end_time": "2018-10-29T03:48:50.100345Z",
     "start_time": "2018-10-29T03:48:40.322585Z"
    }
   },
   "outputs": [
    {
     "name": "stdout",
     "output_type": "stream",
     "text": [
      "Fold 0 as test...\n",
      "Best parameters picked: {'C': 1000.0}\n",
      "Accuracy on test set:  0.9368421052631579\n",
      "---\n",
      "Fold 1 as test...\n",
      "Best parameters picked: {'C': 1000.0}\n",
      "Accuracy on test set:  0.9578947368421052\n",
      "---\n",
      "Fold 2 as test...\n",
      "Best parameters picked: {'C': 200.0}\n",
      "Accuracy on test set:  0.9523809523809523\n",
      "---\n"
     ]
    }
   ],
   "source": [
    "for i, (train_idx, test_idx) in enumerate(kf.split(bc_X)):\n",
    "    print('Fold %d as test...'%i)\n",
    "    ## do a 2-fold cross validation for train/validation\n",
    "    grid = GridSearchCV(lasso, param_grid={'C': C_list}, cv=2, iid=False)\n",
    "    grid.fit(bc_X[train_idx], bc_y[train_idx])\n",
    "    ## predict\n",
    "    print('Best parameters picked: %s'%grid.best_params_)\n",
    "    print('Accuracy on test set: ', grid.best_estimator_.score(bc_X[test_idx], bc_y[test_idx]))\n",
    "    print('---')"
   ]
  },
  {
   "cell_type": "markdown",
   "metadata": {},
   "source": [
    "---"
   ]
  },
  {
   "cell_type": "markdown",
   "metadata": {},
   "source": [
    "#### Supervised linearning"
   ]
  },
  {
   "cell_type": "markdown",
   "metadata": {},
   "source": [
    "There are mainly two types of ___supervised___ task: \n",
    "- _classification_: the target variable is nominal (for example, the prediction of whether or not the stock price will go up or not)\n",
    "- _regression_: the target variable is continuous (for example, the prediction of students' test scores)"
   ]
  },
  {
   "cell_type": "markdown",
   "metadata": {},
   "source": [
    "By ___supervised___, we mean there are labels for them. On the contrary, a task is ___unsupervised___ if there are no predefined labels and different solutions may exist based on different assumptions or goals."
   ]
  },
  {
   "cell_type": "markdown",
   "metadata": {},
   "source": [
    "In this the following examples, we will skip the step of cross validation and just do one train/test split to keep the brevity of this tutorial but it is a good exercise to modify the code and include model selection (that is, parameter tuning.)\n",
    "\n",
    "We arbitrarily split all the following datasets into 3 folds, 2 of which are used as training and 1 as testing."
   ]
  },
  {
   "cell_type": "markdown",
   "metadata": {},
   "source": [
    "##### Classification: hand written digit recognition"
   ]
  },
  {
   "cell_type": "markdown",
   "metadata": {},
   "source": [
    "As a motivating example, we will try to classify what a digit (from 0 to 9) is given the pixel values."
   ]
  },
  {
   "cell_type": "code",
   "execution_count": 43,
   "metadata": {
    "ExecuteTime": {
     "end_time": "2018-10-29T03:48:50.210374Z",
     "start_time": "2018-10-29T03:48:50.103587Z"
    }
   },
   "outputs": [
    {
     "data": {
      "text/plain": [
       "dict_keys(['data', 'target', 'target_names', 'images', 'DESCR'])"
      ]
     },
     "execution_count": 43,
     "metadata": {},
     "output_type": "execute_result"
    }
   ],
   "source": [
    "digits = skdata.load_digits()\n",
    "digits.keys()"
   ]
  },
  {
   "cell_type": "markdown",
   "metadata": {},
   "source": [
    "There are images available to visualize the digits!"
   ]
  },
  {
   "cell_type": "code",
   "execution_count": 44,
   "metadata": {
    "ExecuteTime": {
     "end_time": "2018-10-29T03:48:50.395019Z",
     "start_time": "2018-10-29T03:48:50.213124Z"
    }
   },
   "outputs": [
    {
     "data": {
      "text/plain": [
       "<matplotlib.image.AxesImage at 0x113d94278>"
      ]
     },
     "execution_count": 44,
     "metadata": {},
     "output_type": "execute_result"
    },
    {
     "data": {
      "image/png": "[encoded data removed]",
      "text/plain": [
       "<Figure size 288x288 with 1 Axes>"
      ]
     },
     "metadata": {},
     "output_type": "display_data"
    }
   ],
   "source": [
    "plt.matshow(digits.images[0], cmap=plt.cm.gray) "
   ]
  },
  {
   "cell_type": "code",
   "execution_count": 45,
   "metadata": {
    "ExecuteTime": {
     "end_time": "2018-10-29T03:48:50.402091Z",
     "start_time": "2018-10-29T03:48:50.399106Z"
    }
   },
   "outputs": [],
   "source": [
    "digits_X = digits['data']\n",
    "digits_y = digits['target']"
   ]
  },
  {
   "cell_type": "code",
   "execution_count": 47,
   "metadata": {
    "ExecuteTime": {
     "end_time": "2018-10-29T03:56:14.945754Z",
     "start_time": "2018-10-29T03:56:14.936260Z"
    }
   },
   "outputs": [
    {
     "data": {
      "text/plain": [
       "1198"
      ]
     },
     "execution_count": 47,
     "metadata": {},
     "output_type": "execute_result"
    }
   ],
   "source": [
    "train_indices = np.random.choice(np.arange(digits_y.size), replace=False,\n",
    "                                 size=int(2/3*digits_y.size))\n",
    "train_indices.size"
   ]
  },
  {
   "cell_type": "code",
   "execution_count": 48,
   "metadata": {
    "ExecuteTime": {
     "end_time": "2018-10-29T03:56:38.600849Z",
     "start_time": "2018-10-29T03:56:38.575824Z"
    }
   },
   "outputs": [
    {
     "data": {
      "text/plain": [
       "599"
      ]
     },
     "execution_count": 48,
     "metadata": {},
     "output_type": "execute_result"
    }
   ],
   "source": [
    "test_indices = np.array([idx for idx in range(digits_y.size) if idx not in train_indices])\n",
    "test_indices.size"
   ]
  },
  {
   "cell_type": "code",
   "execution_count": 49,
   "metadata": {
    "ExecuteTime": {
     "end_time": "2018-10-29T03:57:36.025292Z",
     "start_time": "2018-10-29T03:57:36.016362Z"
    }
   },
   "outputs": [],
   "source": [
    "digits_X_train, digits_y_train = digits_X[train_indices, :].copy(), digits_y[train_indices].copy()\n",
    "digits_X_test, digits_y_test = digits_X[test_indices, :].copy(), digits_y[test_indices].copy()"
   ]
  },
  {
   "cell_type": "markdown",
   "metadata": {},
   "source": [
    "Just for the purpose of using as many classifiers as we can to get to know more, we would try [random forests](http://scikit-learn.org/stable/modules/generated/sklearn.ensemble.RandomForestClassifier.html)"
   ]
  },
  {
   "cell_type": "code",
   "execution_count": 46,
   "metadata": {
    "ExecuteTime": {
     "end_time": "2018-10-29T03:53:55.190178Z",
     "start_time": "2018-10-29T03:53:55.180091Z"
    }
   },
   "outputs": [],
   "source": [
    "from sklearn.ensemble import RandomForestClassifier"
   ]
  },
  {
   "cell_type": "code",
   "execution_count": 50,
   "metadata": {
    "ExecuteTime": {
     "end_time": "2018-10-29T03:58:00.732715Z",
     "start_time": "2018-10-29T03:58:00.550881Z"
    }
   },
   "outputs": [
    {
     "data": {
      "text/plain": [
       "RandomForestClassifier(bootstrap=True, class_weight=None, criterion='gini',\n",
       "            max_depth=None, max_features='auto', max_leaf_nodes=None,\n",
       "            min_impurity_decrease=0.0, min_impurity_split=None,\n",
       "            min_samples_leaf=1, min_samples_split=2,\n",
       "            min_weight_fraction_leaf=0.0, n_estimators=20, n_jobs=1,\n",
       "            oob_score=False, random_state=None, verbose=0,\n",
       "            warm_start=False)"
      ]
     },
     "execution_count": 50,
     "metadata": {},
     "output_type": "execute_result"
    }
   ],
   "source": [
    "forest = RandomForestClassifier(n_estimators=20)\n",
    "forest.fit(digits_X_train, digits_y_train)"
   ]
  },
  {
   "cell_type": "markdown",
   "metadata": {},
   "source": [
    "Training accuracy:"
   ]
  },
  {
   "cell_type": "code",
   "execution_count": 51,
   "metadata": {
    "ExecuteTime": {
     "end_time": "2018-10-29T03:58:22.000575Z",
     "start_time": "2018-10-29T03:58:21.983616Z"
    }
   },
   "outputs": [
    {
     "data": {
      "text/plain": [
       "1.0"
      ]
     },
     "execution_count": 51,
     "metadata": {},
     "output_type": "execute_result"
    }
   ],
   "source": [
    "forest.score(digits_X_train, digits_y_train)"
   ]
  },
  {
   "cell_type": "markdown",
   "metadata": {},
   "source": [
    "Testing accuracy:"
   ]
  },
  {
   "cell_type": "code",
   "execution_count": 52,
   "metadata": {
    "ExecuteTime": {
     "end_time": "2018-10-29T03:58:54.796946Z",
     "start_time": "2018-10-29T03:58:54.785617Z"
    }
   },
   "outputs": [
    {
     "data": {
      "text/plain": [
       "0.9549248747913188"
      ]
     },
     "execution_count": 52,
     "metadata": {},
     "output_type": "execute_result"
    }
   ],
   "source": [
    "forest.score(digits_X_test, digits_y_test)"
   ]
  },
  {
   "cell_type": "markdown",
   "metadata": {},
   "source": [
    "This means that _over 95% of the test instances are correctly predicted_."
   ]
  },
  {
   "cell_type": "markdown",
   "metadata": {},
   "source": [
    "##### Regression"
   ]
  },
  {
   "cell_type": "markdown",
   "metadata": {},
   "source": [
    "There is really not much differences when using regression models. As an example, let's use the previously loaded boston housing dataset."
   ]
  },
  {
   "cell_type": "code",
   "execution_count": 53,
   "metadata": {
    "ExecuteTime": {
     "end_time": "2018-10-29T04:08:30.570740Z",
     "start_time": "2018-10-29T04:08:30.550004Z"
    }
   },
   "outputs": [
    {
     "data": {
      "text/plain": [
       "((506, 13), (506,))"
      ]
     },
     "execution_count": 53,
     "metadata": {},
     "output_type": "execute_result"
    }
   ],
   "source": [
    "boston_X.shape, boston_y.shape"
   ]
  },
  {
   "cell_type": "code",
   "execution_count": 54,
   "metadata": {
    "ExecuteTime": {
     "end_time": "2018-10-29T04:09:04.349505Z",
     "start_time": "2018-10-29T04:09:04.337900Z"
    }
   },
   "outputs": [
    {
     "data": {
      "text/plain": [
       "(337, 169)"
      ]
     },
     "execution_count": 54,
     "metadata": {},
     "output_type": "execute_result"
    }
   ],
   "source": [
    "train_indices = np.random.choice(np.arange(boston_y.size), replace=False,\n",
    "                                 size=int(2/3*boston_y.size))\n",
    "test_indices = np.array([idx for idx in range(boston_y.size) if idx not in train_indices])\n",
    "train_indices.size, test_indices.size"
   ]
  },
  {
   "cell_type": "code",
   "execution_count": 55,
   "metadata": {
    "ExecuteTime": {
     "end_time": "2018-10-29T04:09:07.830685Z",
     "start_time": "2018-10-29T04:09:07.826187Z"
    }
   },
   "outputs": [],
   "source": [
    "boston_X_train, boston_y_train = boston_X[train_indices, :].copy(), boston_y[train_indices].copy()\n",
    "boston_X_test, boston_y_test = boston_X[test_indices, :].copy(), boston_y[test_indices].copy()"
   ]
  },
  {
   "cell_type": "markdown",
   "metadata": {},
   "source": [
    "This time, let's play with neural networks"
   ]
  },
  {
   "cell_type": "code",
   "execution_count": 56,
   "metadata": {
    "ExecuteTime": {
     "end_time": "2018-10-29T04:09:37.240091Z",
     "start_time": "2018-10-29T04:09:37.235326Z"
    }
   },
   "outputs": [],
   "source": [
    "from sklearn.neural_network import MLPRegressor"
   ]
  },
  {
   "cell_type": "code",
   "execution_count": 59,
   "metadata": {
    "ExecuteTime": {
     "end_time": "2018-10-29T04:10:29.565771Z",
     "start_time": "2018-10-29T04:10:28.428459Z"
    }
   },
   "outputs": [
    {
     "data": {
      "text/plain": [
       "0.8169909145798273"
      ]
     },
     "execution_count": 59,
     "metadata": {},
     "output_type": "execute_result"
    }
   ],
   "source": [
    "mlp = MLPRegressor(max_iter=1000)\n",
    "mlp.fit(boston_X_train, boston_y_train)\n",
    "mlp.score(boston_X_train, boston_y_train)"
   ]
  },
  {
   "cell_type": "markdown",
   "metadata": {},
   "source": [
    "Instead of $R^2$, other measures such as RMSE or MAE may be better choices since we are more interested in how close we can predict"
   ]
  },
  {
   "cell_type": "code",
   "execution_count": 60,
   "metadata": {
    "ExecuteTime": {
     "end_time": "2018-10-29T04:11:51.153114Z",
     "start_time": "2018-10-29T04:11:51.149826Z"
    }
   },
   "outputs": [],
   "source": [
    "from sklearn.metrics import mean_squared_error, mean_absolute_error"
   ]
  },
  {
   "cell_type": "markdown",
   "metadata": {},
   "source": [
    "Train score:"
   ]
  },
  {
   "cell_type": "code",
   "execution_count": 61,
   "metadata": {
    "ExecuteTime": {
     "end_time": "2018-10-29T04:13:52.998934Z",
     "start_time": "2018-10-29T04:13:52.990280Z"
    }
   },
   "outputs": [
    {
     "data": {
      "text/plain": [
       "(15.58290344746573, 2.850455547745339)"
      ]
     },
     "execution_count": 61,
     "metadata": {},
     "output_type": "execute_result"
    }
   ],
   "source": [
    "boston_y_train_pred = mlp.predict(boston_X_train)\n",
    "mean_squared_error(boston_y_train, boston_y_train_pred), mean_absolute_error(boston_y_train, boston_y_train_pred)"
   ]
  },
  {
   "cell_type": "markdown",
   "metadata": {},
   "source": [
    "Test score:"
   ]
  },
  {
   "cell_type": "code",
   "execution_count": 62,
   "metadata": {
    "ExecuteTime": {
     "end_time": "2018-10-29T04:14:26.208966Z",
     "start_time": "2018-10-29T04:14:26.200239Z"
    }
   },
   "outputs": [
    {
     "data": {
      "text/plain": [
       "(21.398958734028113, 3.3487600850908934)"
      ]
     },
     "execution_count": 62,
     "metadata": {},
     "output_type": "execute_result"
    }
   ],
   "source": [
    "boston_y_test_pred = mlp.predict(boston_X_test)\n",
    "mean_squared_error(boston_y_test, boston_y_test_pred), mean_absolute_error(boston_y_test, boston_y_test_pred)"
   ]
  },
  {
   "cell_type": "markdown",
   "metadata": {},
   "source": [
    "Not bad! We can plot the real y vs. predicted y values to visually show the performance:"
   ]
  },
  {
   "cell_type": "code",
   "execution_count": 69,
   "metadata": {
    "ExecuteTime": {
     "end_time": "2018-10-29T04:16:19.934216Z",
     "start_time": "2018-10-29T04:16:19.727169Z"
    }
   },
   "outputs": [
    {
     "data": {
      "text/plain": [
       "<matplotlib.collections.PathCollection at 0x113fa1128>"
      ]
     },
     "execution_count": 69,
     "metadata": {},
     "output_type": "execute_result"
    },
    {
     "data": {
      "image/png": "[encoded data removed]",
      "text/plain": [
       "<Figure size 432x288 with 1 Axes>"
      ]
     },
     "metadata": {},
     "output_type": "display_data"
    }
   ],
   "source": [
    "plt.scatter(boston_y_test, boston_y_test_pred,\n",
    "            c='k', marker='+')"
   ]
  },
  {
   "cell_type": "markdown",
   "metadata": {},
   "source": [
    "##### Metric APIs"
   ]
  },
  {
   "cell_type": "markdown",
   "metadata": {},
   "source": [
    "While accuracy is probably the most straightforward and intuitive measure to evaluate the goodness of predictive models, it is not always ideal. For example, think about a dataset where only 1% are with label 1 while the rest 99% are label 0. Under such settings, we can obtain an accuracy of 99% by predicting everything as label 0."
   ]
  },
  {
   "cell_type": "markdown",
   "metadata": {},
   "source": [
    "For regression, mean square errors would put more weights on large errors."
   ]
  },
  {
   "cell_type": "markdown",
   "metadata": {},
   "source": [
    "Therefore, every metric used for evalution of predictive power is somehow biased. We need to pick one that best fits our needs. \n",
    "\n",
    "Fortunately, scikit-learn provides very convenient APIs for different kinds of metrics: [link](http://scikit-learn.org/stable/modules/classes.html#module-sklearn.metrics)"
   ]
  },
  {
   "cell_type": "markdown",
   "metadata": {},
   "source": [
    "---"
   ]
  },
  {
   "cell_type": "markdown",
   "metadata": {},
   "source": [
    "#### Unsupervised learning: Clustering as an example"
   ]
  },
  {
   "cell_type": "markdown",
   "metadata": {},
   "source": [
    "Unsupervised methods can be applied to datasets where no labels are available, on the contrary to supervised settings. Theoretically, we can apply unsupervised learning for predictions even when labels are available but performances are usually not comparable to supervised methods."
   ]
  },
  {
   "cell_type": "markdown",
   "metadata": {},
   "source": [
    "A good example is clustering, which is commonly used in image segmentation, marketing analytics, and crime analytics. Here we apply the classic k-means clustering. The algorithm iteratively updates cluster centroids, which are the centers and representitative of the group."
   ]
  },
  {
   "cell_type": "markdown",
   "metadata": {},
   "source": [
    "##### Two-dimensional example"
   ]
  },
  {
   "cell_type": "markdown",
   "metadata": {},
   "source": [
    "To make this easier to visualize, let's make some fake data that are only two-dimenional in the space:"
   ]
  },
  {
   "cell_type": "code",
   "execution_count": 71,
   "metadata": {
    "ExecuteTime": {
     "end_time": "2018-10-29T04:28:16.864080Z",
     "start_time": "2018-10-29T04:28:16.855269Z"
    }
   },
   "outputs": [
    {
     "data": {
      "text/plain": [
       "array([[1., 0.],\n",
       "       [0., 1.]])"
      ]
     },
     "execution_count": 71,
     "metadata": {},
     "output_type": "execute_result"
    }
   ],
   "source": [
    "c1_center = [10, 10]\n",
    "c2_center = [0, 0]\n",
    "cov = np.eye(2) # unit covariance\n",
    "cov"
   ]
  },
  {
   "cell_type": "code",
   "execution_count": 72,
   "metadata": {
    "ExecuteTime": {
     "end_time": "2018-10-29T04:28:44.480915Z",
     "start_time": "2018-10-29T04:28:44.441449Z"
    }
   },
   "outputs": [
    {
     "data": {
      "text/plain": [
       "((100, 2), (100, 2))"
      ]
     },
     "execution_count": 72,
     "metadata": {},
     "output_type": "execute_result"
    }
   ],
   "source": [
    "c1_data = np.random.multivariate_normal(mean=c1_center, cov=cov, size=100)\n",
    "c2_data = np.random.multivariate_normal(mean=c2_center, cov=cov, size=100)\n",
    "c1_data.shape, c2_data.shape"
   ]
  },
  {
   "cell_type": "markdown",
   "metadata": {},
   "source": [
    "Combined the two clusters and shuffle the row orders"
   ]
  },
  {
   "cell_type": "code",
   "execution_count": 75,
   "metadata": {
    "ExecuteTime": {
     "end_time": "2018-10-29T04:29:47.864236Z",
     "start_time": "2018-10-29T04:29:47.856553Z"
    }
   },
   "outputs": [
    {
     "data": {
      "text/plain": [
       "(200, 2)"
      ]
     },
     "execution_count": 75,
     "metadata": {},
     "output_type": "execute_result"
    }
   ],
   "source": [
    "cluster_data = np.vstack([c1_data, c2_data])\n",
    "np.random.shuffle(cluster_data)\n",
    "cluster_data.shape"
   ]
  },
  {
   "cell_type": "markdown",
   "metadata": {},
   "source": [
    "Let's try cluster! Just to remind you that this is a very very simple data, whose patterns are known in advance. Therefore, we will ask the algorithm to find _two_ clusters."
   ]
  },
  {
   "cell_type": "code",
   "execution_count": 76,
   "metadata": {
    "ExecuteTime": {
     "end_time": "2018-10-29T04:31:06.887037Z",
     "start_time": "2018-10-29T04:31:06.883255Z"
    }
   },
   "outputs": [],
   "source": [
    "from sklearn.cluster import KMeans"
   ]
  },
  {
   "cell_type": "code",
   "execution_count": 79,
   "metadata": {
    "ExecuteTime": {
     "end_time": "2018-10-29T04:31:46.056084Z",
     "start_time": "2018-10-29T04:31:45.986892Z"
    }
   },
   "outputs": [
    {
     "data": {
      "text/plain": [
       "KMeans(algorithm='auto', copy_x=True, init='k-means++', max_iter=300,\n",
       "    n_clusters=2, n_init=10, n_jobs=1, precompute_distances='auto',\n",
       "    random_state=None, tol=0.0001, verbose=0)"
      ]
     },
     "execution_count": 79,
     "metadata": {},
     "output_type": "execute_result"
    }
   ],
   "source": [
    "kmeans = KMeans(n_clusters=2)\n",
    "kmeans.fit(cluster_data)"
   ]
  },
  {
   "cell_type": "markdown",
   "metadata": {},
   "source": [
    "Checkout the centroids: looks perfect!"
   ]
  },
  {
   "cell_type": "code",
   "execution_count": 80,
   "metadata": {
    "ExecuteTime": {
     "end_time": "2018-10-29T04:32:16.033111Z",
     "start_time": "2018-10-29T04:32:16.027646Z"
    }
   },
   "outputs": [
    {
     "data": {
      "text/plain": [
       "array([[10.04737103, 10.02630955],\n",
       "       [ 0.05650945,  0.04306239]])"
      ]
     },
     "execution_count": 80,
     "metadata": {},
     "output_type": "execute_result"
    }
   ],
   "source": [
    "kmeans.cluster_centers_"
   ]
  },
  {
   "cell_type": "markdown",
   "metadata": {},
   "source": [
    "Finally, let's visualize the clustering! To do this, we use different shapes and colors for different clusters defined by the `kmeans` model:"
   ]
  },
  {
   "cell_type": "code",
   "execution_count": 84,
   "metadata": {
    "ExecuteTime": {
     "end_time": "2018-10-29T04:34:32.184512Z",
     "start_time": "2018-10-29T04:34:32.178685Z"
    }
   },
   "outputs": [
    {
     "data": {
      "text/plain": [
       "((100, 2), (100, 2))"
      ]
     },
     "execution_count": 84,
     "metadata": {},
     "output_type": "execute_result"
    }
   ],
   "source": [
    "c0_fit = cluster_data[kmeans.labels_==0]\n",
    "c1_fit = cluster_data[kmeans.labels_==1]\n",
    "c0_fit.shape, c1_fit.shape"
   ]
  },
  {
   "cell_type": "code",
   "execution_count": 93,
   "metadata": {
    "ExecuteTime": {
     "end_time": "2018-10-29T04:37:11.770183Z",
     "start_time": "2018-10-29T04:37:11.543467Z"
    }
   },
   "outputs": [
    {
     "data": {
      "text/plain": [
       "<matplotlib.legend.Legend at 0x1157bdeb8>"
      ]
     },
     "execution_count": 93,
     "metadata": {},
     "output_type": "execute_result"
    },
    {
     "data": {
      "image/png": "[encoded data removed]",
      "text/plain": [
       "<Figure size 432x288 with 1 Axes>"
      ]
     },
     "metadata": {},
     "output_type": "display_data"
    }
   ],
   "source": [
    "plt.scatter(c0_fit[:,0], c0_fit[:,1], c='lightgray', marker='+', label='Cls. 0')\n",
    "plt.scatter(c1_fit[:,0], c1_fit[:,1], c='k', marker='+', label='Cls. 1')\n",
    "## also plot the centroids\n",
    "plt.scatter(kmeans.cluster_centers_[:,0], kmeans.cluster_centers_[:,1],\n",
    "            c='r', label='Centroids', s=50)\n",
    "plt.legend()"
   ]
  },
  {
   "cell_type": "markdown",
   "metadata": {},
   "source": [
    "##### Finding \"optimal\" clusters"
   ]
  },
  {
   "cell_type": "markdown",
   "metadata": {},
   "source": [
    "Of course, we always have more complex patterns in the reality, where we may need to find out a cluster number that best fits the data. To see how this works, we can use the hand-written digits data. Again, we do know that the optimal one is probably 10 (recall that there are 0 ~ 9 digits) so that we can see if our method to search for the \"optimal\" cluster number makes sense or not."
   ]
  },
  {
   "cell_type": "markdown",
   "metadata": {},
   "source": [
    "A common way is called elbow method. Specifically, we measure the model fit across different cluster numbers and pick the one which is the _elbow_, the tipping point where the clustering quality goes up steeply. Let's use an example to see how this works. In the following, we use [Silhouette Coefficient](http://scikit-learn.org/stable/modules/generated/sklearn.metrics.silhouette_score.html#sklearn.metrics.silhouette_score) to measure clustering quality but there are many others."
   ]
  },
  {
   "cell_type": "code",
   "execution_count": 94,
   "metadata": {
    "ExecuteTime": {
     "end_time": "2018-10-29T04:44:05.754748Z",
     "start_time": "2018-10-29T04:44:05.751574Z"
    }
   },
   "outputs": [],
   "source": [
    "from sklearn.metrics import silhouette_score"
   ]
  },
  {
   "cell_type": "code",
   "execution_count": 105,
   "metadata": {
    "ExecuteTime": {
     "end_time": "2018-10-29T04:48:00.267635Z",
     "start_time": "2018-10-29T04:47:57.306857Z"
    }
   },
   "outputs": [
    {
     "data": {
      "text/plain": [
       "array([0.11832841, 0.12649498, 0.1280153 , 0.13602996, 0.15158008,\n",
       "       0.16340246, 0.17869441, 0.18897893, 0.18247907, 0.18295946,\n",
       "       0.18284279, 0.18584167, 0.18806565])"
      ]
     },
     "execution_count": 105,
     "metadata": {},
     "output_type": "execute_result"
    }
   ],
   "source": [
    "silhouette_score_list = []\n",
    "max_k = 15\n",
    "for n_cls in range(2, max_k):\n",
    "    kmeans = KMeans(n_clusters=n_cls)\n",
    "    kmeans.fit(digits_X)\n",
    "    silhouette_score_list.append(silhouette_score(digits_X, kmeans.labels_))\n",
    "silhouette_score_list = np.array(silhouette_score_list)\n",
    "silhouette_score_list"
   ]
  },
  {
   "cell_type": "markdown",
   "metadata": {},
   "source": [
    "Again, visualization is always our friend to present such trends:"
   ]
  },
  {
   "cell_type": "code",
   "execution_count": 106,
   "metadata": {
    "ExecuteTime": {
     "end_time": "2018-10-29T04:48:01.831653Z",
     "start_time": "2018-10-29T04:48:01.612675Z"
    }
   },
   "outputs": [
    {
     "data": {
      "text/plain": [
       "Text(0.5,0,'# of Clusters')"
      ]
     },
     "execution_count": 106,
     "metadata": {},
     "output_type": "execute_result"
    },
    {
     "data": {
      "image/png": "[encoded data removed]",
      "text/plain": [
       "<Figure size 432x288 with 1 Axes>"
      ]
     },
     "metadata": {},
     "output_type": "display_data"
    }
   ],
   "source": [
    "plt.scatter(np.arange(2, max_k), silhouette_score_list, c='k', marker='+', s=50)\n",
    "plt.plot(np.arange(2, max_k), silhouette_score_list, linestyle='--', c='lightgray')\n",
    "plt.xticks(np.arange(2, max_k))\n",
    "plt.ylabel('Silhouette Score')\n",
    "plt.xlabel('# of Clusters')"
   ]
  },
  {
   "cell_type": "markdown",
   "metadata": {},
   "source": [
    "According to the results, 9 or 10 may be what we really want for this digits data."
   ]
  },
  {
   "cell_type": "markdown",
   "metadata": {},
   "source": [
    "---"
   ]
  },
  {
   "cell_type": "markdown",
   "metadata": {},
   "source": [
    "#### Conclusion"
   ]
  },
  {
   "cell_type": "markdown",
   "metadata": {},
   "source": [
    "In this tutorial, we went through data representation, cross validation and hyperparameter tuning, and some examples of classification, regression and clustering. Nonetheless, this is just a tip of the iceberg of data mining. In particular, we limit ourselves to well structured datasets. If you're interested in other types of data such as text or networks, I shamelessly refer you to my other notebooks on these two topics:\n",
    "- [Network Analysis with NetworkX](https://github.com/zhiyzuo/python-tutorial/blob/master/3-Network-Analysis-with-NetworkX.ipynb)\n",
    "- [Text Analytics in Python](https://github.com/zhiyzuo/python-tutorial/blob/master/7-Text-Analytics-in-Python.ipynb)"
   ]
  },
  {
   "cell_type": "markdown",
   "metadata": {},
   "source": [
    "There are other great tutorials on scikit-learn and I list some below:\n",
    "- http://scikit-learn.org/stable/tutorial/basic/tutorial.html\n",
    "- https://www.datacamp.com/community/tutorials/machine-learning-python\n",
    "- https://machinelearningmastery.com/a-gentle-introduction-to-scikit-learn-a-python-machine-learning-library/"
   ]
  }
 ],
 "metadata": {
  "kernelspec": {
   "display_name": "Python 3",
   "language": "python",
   "name": "python3"
  },
  "language_info": {
   "codemirror_mode": {
    "name": "ipython",
    "version": 3
   },
   "file_extension": ".py",
   "mimetype": "text/x-python",
   "name": "python",
   "nbconvert_exporter": "python",
   "pygments_lexer": "ipython3",
   "version": "3.7.0"
  },
  "toc": {
   "base_numbering": 1,
   "nav_menu": {},
   "number_sections": true,
   "sideBar": true,
   "skip_h1_title": false,
   "title_cell": "Table of Contents",
   "title_sidebar": "Contents",
   "toc_cell": false,
   "toc_position": {
    "height": "calc(100% - 180px)",
    "left": "10px",
    "top": "150px",
    "width": "336px"
   },
   "toc_section_display": "block",
   "toc_window_display": true
  },
  "varInspector": {
   "cols": {
    "lenName": 16,
    "lenType": 16,
    "lenVar": 40
   },
   "kernels_config": {
    "python": {
     "delete_cmd_postfix": "",
     "delete_cmd_prefix": "del ",
     "library": "var_list.py",
     "varRefreshCmd": "print(var_dic_list())"
    },
    "r": {
     "delete_cmd_postfix": ") ",
     "delete_cmd_prefix": "rm(",
     "library": "var_list.r",
     "varRefreshCmd": "cat(var_dic_list()) "
    }
   },
   "types_to_exclude": [
    "module",
    "function",
    "builtin_function_or_method",
    "instance",
    "_Feature"
   ],
   "window_display": false
  }
 },
 "nbformat": 4,
 "nbformat_minor": 2
}
